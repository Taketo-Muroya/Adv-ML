{
 "cells": [
  {
   "cell_type": "markdown",
   "metadata": {},
   "source": [
    "# Assignment #4 :Final project"
   ]
  },
  {
   "cell_type": "markdown",
   "metadata": {},
   "source": [
    "Taketo Muroya"
   ]
  },
  {
   "cell_type": "markdown",
   "metadata": {},
   "source": [
    "**Instruction (Option 2):** Use a dataset of interest to you to build machine learning models and then compare predictions of at least three models on test data. A number of you have expressed interest and put in the time to gather (or find) your own data and to implement the modelling approaches we have studied to analyze this data. This assignment will give you the opportunity to write up what you have found in this process. Please be sure to decribe your dataset (including the features, target, and the general type of data you are working with). Describe each model you will run. Then compare results. Please save your jupyter notebook to an html file and upload it to this assignment to complete your final report."
   ]
  },
  {
   "cell_type": "code",
   "execution_count": 1,
   "metadata": {},
   "outputs": [
    {
     "name": "stderr",
     "output_type": "stream",
     "text": [
      "Using TensorFlow backend.\n"
     ]
    }
   ],
   "source": [
    "# Import packages\n",
    "import re\n",
    "import os\n",
    "import sys\n",
    "import requests\n",
    "import MeCab\n",
    "import oseti\n",
    "import urllib\n",
    "import pandas as pd\n",
    "import numpy as np\n",
    "import matplotlib as mpl\n",
    "import matplotlib.pyplot as plt\n",
    "import statsmodels.api as sm\n",
    "import tensorflow as tf\n",
    "import seaborn as sns\n",
    "\n",
    "from math import sqrt\n",
    "from bs4 import BeautifulSoup\n",
    "from pathlib import Path\n",
    "from subprocess import call\n",
    "from wordcloud import WordCloud\n",
    "from keras.regularizers import l2\n",
    "from keras.preprocessing.text import Tokenizer\n",
    "from keras.preprocessing.sequence import pad_sequences\n",
    "\n",
    "from sklearn.feature_extraction.text import CountVectorizer\n",
    "from sklearn.feature_extraction.text import TfidfVectorizer\n",
    "from sklearn.decomposition import PCA\n",
    "from sklearn.model_selection import train_test_split\n",
    "from sklearn.model_selection import cross_val_score\n",
    "from sklearn.metrics import accuracy_score\n",
    "from sklearn.metrics import f1_score\n",
    "from sklearn.metrics import precision_score\n",
    "from sklearn.metrics import recall_score\n",
    "from sklearn.metrics import roc_auc_score\n",
    "from sklearn.metrics import mean_squared_error\n",
    "from sklearn.metrics import r2_score\n",
    "from sklearn.metrics import mean_absolute_error"
   ]
  },
  {
   "cell_type": "markdown",
   "metadata": {},
   "source": [
    "## Introduction"
   ]
  },
  {
   "cell_type": "markdown",
   "metadata": {},
   "source": [
    "This report tries to nowcast the Index of Business Conditions (IBC) using the Monthly Report of Prospects for Japan’s Economy (MRPJE). The IBC represents the Japanese economic conditions over time. The MRPJE is an economic report published by Japan Research Institute (a private company). If the MRPJE is written well about the Japanese economic conditions, it should nowcast the IBC with a high performance."
   ]
  },
  {
   "cell_type": "markdown",
   "metadata": {},
   "source": [
    "## Set up Target variable"
   ]
  },
  {
   "cell_type": "markdown",
   "metadata": {},
   "source": [
    "Use the IBC data from Jan. 2009 to Feb. 2020 (134 observations)"
   ]
  },
  {
   "cell_type": "code",
   "execution_count": 2,
   "metadata": {
    "scrolled": true
   },
   "outputs": [
    {
     "data": {
      "text/html": [
       "<div>\n",
       "<style scoped>\n",
       "    .dataframe tbody tr th:only-of-type {\n",
       "        vertical-align: middle;\n",
       "    }\n",
       "\n",
       "    .dataframe tbody tr th {\n",
       "        vertical-align: top;\n",
       "    }\n",
       "\n",
       "    .dataframe thead th {\n",
       "        text-align: right;\n",
       "    }\n",
       "</style>\n",
       "<table border=\"1\" class=\"dataframe\">\n",
       "  <thead>\n",
       "    <tr style=\"text-align: right;\">\n",
       "      <th></th>\n",
       "      <th>Coincident Index</th>\n",
       "    </tr>\n",
       "    <tr>\n",
       "      <th>time</th>\n",
       "      <th></th>\n",
       "    </tr>\n",
       "  </thead>\n",
       "  <tbody>\n",
       "    <tr>\n",
       "      <td>2009-01-01</td>\n",
       "      <td>75.3</td>\n",
       "    </tr>\n",
       "    <tr>\n",
       "      <td>2009-02-01</td>\n",
       "      <td>69.9</td>\n",
       "    </tr>\n",
       "    <tr>\n",
       "      <td>2009-03-01</td>\n",
       "      <td>69.2</td>\n",
       "    </tr>\n",
       "    <tr>\n",
       "      <td>2009-04-01</td>\n",
       "      <td>70.3</td>\n",
       "    </tr>\n",
       "    <tr>\n",
       "      <td>2009-05-01</td>\n",
       "      <td>72.2</td>\n",
       "    </tr>\n",
       "    <tr>\n",
       "      <td>...</td>\n",
       "      <td>...</td>\n",
       "    </tr>\n",
       "    <tr>\n",
       "      <td>2019-10-01</td>\n",
       "      <td>96.1</td>\n",
       "    </tr>\n",
       "    <tr>\n",
       "      <td>2019-11-01</td>\n",
       "      <td>95.1</td>\n",
       "    </tr>\n",
       "    <tr>\n",
       "      <td>2019-12-01</td>\n",
       "      <td>94.3</td>\n",
       "    </tr>\n",
       "    <tr>\n",
       "      <td>2020-01-01</td>\n",
       "      <td>95.7</td>\n",
       "    </tr>\n",
       "    <tr>\n",
       "      <td>2020-02-01</td>\n",
       "      <td>95.4</td>\n",
       "    </tr>\n",
       "  </tbody>\n",
       "</table>\n",
       "<p>134 rows × 1 columns</p>\n",
       "</div>"
      ],
      "text/plain": [
       "            Coincident Index\n",
       "time                        \n",
       "2009-01-01              75.3\n",
       "2009-02-01              69.9\n",
       "2009-03-01              69.2\n",
       "2009-04-01              70.3\n",
       "2009-05-01              72.2\n",
       "...                      ...\n",
       "2019-10-01              96.1\n",
       "2019-11-01              95.1\n",
       "2019-12-01              94.3\n",
       "2020-01-01              95.7\n",
       "2020-02-01              95.4\n",
       "\n",
       "[134 rows x 1 columns]"
      ]
     },
     "execution_count": 2,
     "metadata": {},
     "output_type": "execute_result"
    }
   ],
   "source": [
    "# load the IBC data\n",
    "# https://www.esri.cao.go.jp/en/stat/di/di-e.html\n",
    "ibc = pd.read_csv('data/Indexes of Business Conditions.csv', index_col=0)\n",
    "ibc = ibc.iloc[288:]\n",
    "\n",
    "# set time-series format\n",
    "ibc.to_csv(\"temp.csv\")\n",
    "dateparse = lambda dates: pd.datetime.strptime(dates, '%b-%y')\n",
    "ibc = pd.read_csv('temp.csv', index_col=0, date_parser=dateparse, dtype='float')\n",
    "\n",
    "ibc"
   ]
  },
  {
   "cell_type": "code",
   "execution_count": 87,
   "metadata": {
    "scrolled": true
   },
   "outputs": [
    {
     "data": {
      "image/png": "[encoded data removed]",
      "text/plain": [
       "<Figure size 432x288 with 1 Axes>"
      ]
     },
     "metadata": {
      "needs_background": "light"
     },
     "output_type": "display_data"
    }
   ],
   "source": [
    "# visualize IBC\n",
    "plt.plot(ibc['Coincident Index'])\n",
    "plt.title('Index of Business Conditions')\n",
    "plt.savefig(\"images/ibc.png\")"
   ]
  },
  {
   "cell_type": "code",
   "execution_count": 4,
   "metadata": {},
   "outputs": [
    {
     "data": {
      "image/png": "[encoded data removed]",
      "text/plain": [
       "<Figure size 864x576 with 2 Axes>"
      ]
     },
     "metadata": {
      "needs_background": "light"
     },
     "output_type": "display_data"
    }
   ],
   "source": [
    "# Check Autocorrelation of IBC\n",
    "\n",
    "fig = plt.figure(figsize=(12,8))\n",
    "ax1 = fig.add_subplot(211)\n",
    "fig = sm.graphics.tsa.plot_acf(ibc['Coincident Index'], lags=20, ax=ax1)\n",
    "ax2 = fig.add_subplot(212)\n",
    "fig = sm.graphics.tsa.plot_pacf(ibc['Coincident Index'], lags=20, ax=ax2)\n",
    "plt.savefig(\"images/autocorrelation.png\")"
   ]
  },
  {
   "cell_type": "markdown",
   "metadata": {},
   "source": [
    "Since the IBC is a time-series data, it has a autocorrelation. To deal with this issue, this report mainly selects the Recurrent Neural Network (RNN) models"
   ]
  },
  {
   "cell_type": "markdown",
   "metadata": {},
   "source": [
    "## Set up predictors"
   ]
  },
  {
   "cell_type": "markdown",
   "metadata": {},
   "source": [
    "Use Monthly Report of Prospects for Japan’s Economy (MRPJE) from Jan. 2009 to Feb. 2020 (134 observations) as predictors, which are written in Japanese"
   ]
  },
  {
   "cell_type": "markdown",
   "metadata": {},
   "source": [
    "### Web scraping"
   ]
  },
  {
   "cell_type": "code",
   "execution_count": 5,
   "metadata": {},
   "outputs": [
    {
     "data": {
      "text/plain": [
       "'\\n\\n# Get URLs of each report\\nJRI = str()\\nfor word in [\"2009\",\"2010\",\"2011\",\"2012\",\"2013\",\"2014\",\\n             \"2015\",\"2016\",\"2017\",\"2018\",\"2019\",\"2020\"]:\\n    JRI += str(\\'https://www.jri.co.jp/report/medium/japan/\\' + word + \\'/ \\')\\npage = JRI.split()\\npage = sorted(page)\\n\\nurl_list = []\\nfor p in page:\\n    content = requests.get(p)\\n    soup = BeautifulSoup(content.text, \\'html.parser\\')\\n    tmp = str(soup.findAll(href=re.compile(\"pdf\")))\\n    pattern4 = \"/file/report/japan/pdf/[0-9]{4}.pdf\"\\n    pattern5 = \"/file/report/japan/pdf/[0-9]{5}.pdf\"\\n    tmp_url = re.findall(pattern4, tmp) + re.findall(pattern5, tmp)\\n    url_list += tmp_url\\n\\nW = str()\\nfor word in url_list:\\n    W += str(\\'https://www.jri.co.jp\\' + word + \\' \\')\\nurl = W.split()\\n\\n# Download reports as pdf foramt and transform them into dataframe\\ndf = pd.DataFrame()\\nfor i in range(0,137):\\n    urllib.request.urlretrieve(url[i],\\'tmp.pdf\\')\\n    py_path = Path(sys.exec_prefix) / \"Scripts\" / \"pdf2txt.py\"\\n    call([\"py\", str(py_path), \"-otmp.txt\", \"tmp.pdf\"])\\n    tmp_data = open(\"tmp.txt\", \"r\", encoding=\"utf-8\")\\n    contents = tmp_data.read()\\n    contents = contents.replace(\\'\\n\\', \\'\\')\\n    contents = contents.replace(\\'\\x0c\\', \\'\\')\\n    contents = contents.replace(\\' \\', \\'\\')\\n    head = contents[6:13]\\n    tmp = pd.DataFrame([contents], index={head}, columns={\\'body\\'})\\n    df = df.append(tmp)\\n    tmp_data.close()\\n\\n# Arrange the order of reports chronologically\\ndfj = pd.DataFrame()\\ndfj = dfj.append(df.iloc[[11,10,9,8,7,6,5,4,3,2,1,0],:])\\ndfj = dfj.append(df.iloc[[23,22,21,20,19,18,17,16,15,14,13,12],:])\\ndfj = dfj.append(df.iloc[[35,34,33,32,31,30,29,28,27,26,25,24],:])\\ndfj = dfj.append(df.iloc[[47,46,45,44,43,42,41,40,39,38,37,36],:])\\ndfj = dfj.append(df.iloc[[59,58,57,56,55,54,53,52,51,50,49,48],:])\\ndfj = dfj.append(df.iloc[[71,70,69,68,67,66,65,64,63,62,61,60],:])\\ndfj = dfj.append(df.iloc[[83,82,81,80,79,78,77,76,75,74,73,72],:])\\ndfj = dfj.append(df.iloc[[95,94,93,92,91,90,89,88,87,86,85,84],:])\\ndfj = dfj.append(df.iloc[[101,100,99,98,97,96,108,107,106,105,104,103],:])\\ndfj = dfj.append(df.iloc[[102,120,119,118,117,116,115,114,113,112,111,110],:])\\ndfj = dfj.append(df.iloc[[109,132,131,130,129,128,127,126,125,124,123,122],:])\\ndfj = dfj.append(df.iloc[[121,136],:])\\n\\ndfj.to_csv(\"data/text.csv\")\\n\\n'"
      ]
     },
     "execution_count": 5,
     "metadata": {},
     "output_type": "execute_result"
    }
   ],
   "source": [
    "\"\"\"\n",
    "\n",
    "# Get URLs of each report\n",
    "JRI = str()\n",
    "for word in [\"2009\",\"2010\",\"2011\",\"2012\",\"2013\",\"2014\",\n",
    "             \"2015\",\"2016\",\"2017\",\"2018\",\"2019\",\"2020\"]:\n",
    "    JRI += str('https://www.jri.co.jp/report/medium/japan/' + word + '/ ')\n",
    "page = JRI.split()\n",
    "page = sorted(page)\n",
    "\n",
    "url_list = []\n",
    "for p in page:\n",
    "    content = requests.get(p)\n",
    "    soup = BeautifulSoup(content.text, 'html.parser')\n",
    "    tmp = str(soup.findAll(href=re.compile(\"pdf\")))\n",
    "    pattern4 = \"/file/report/japan/pdf/[0-9]{4}.pdf\"\n",
    "    pattern5 = \"/file/report/japan/pdf/[0-9]{5}.pdf\"\n",
    "    tmp_url = re.findall(pattern4, tmp) + re.findall(pattern5, tmp)\n",
    "    url_list += tmp_url\n",
    "\n",
    "W = str()\n",
    "for word in url_list:\n",
    "    W += str('https://www.jri.co.jp' + word + ' ')\n",
    "url = W.split()\n",
    "\n",
    "# Download reports as pdf foramt and transform them into dataframe\n",
    "df = pd.DataFrame()\n",
    "for i in range(0,137):\n",
    "    urllib.request.urlretrieve(url[i],'tmp.pdf')\n",
    "    py_path = Path(sys.exec_prefix) / \"Scripts\" / \"pdf2txt.py\"\n",
    "    call([\"py\", str(py_path), \"-otmp.txt\", \"tmp.pdf\"])\n",
    "    tmp_data = open(\"tmp.txt\", \"r\", encoding=\"utf-8\")\n",
    "    contents = tmp_data.read()\n",
    "    contents = contents.replace('\\n', '')\n",
    "    contents = contents.replace('\\x0c', '')\n",
    "    contents = contents.replace(' ', '')\n",
    "    head = contents[6:13]\n",
    "    tmp = pd.DataFrame([contents], index={head}, columns={'body'})\n",
    "    df = df.append(tmp)\n",
    "    tmp_data.close()\n",
    "\n",
    "# Arrange the order of reports chronologically\n",
    "dfj = pd.DataFrame()\n",
    "dfj = dfj.append(df.iloc[[11,10,9,8,7,6,5,4,3,2,1,0],:])\n",
    "dfj = dfj.append(df.iloc[[23,22,21,20,19,18,17,16,15,14,13,12],:])\n",
    "dfj = dfj.append(df.iloc[[35,34,33,32,31,30,29,28,27,26,25,24],:])\n",
    "dfj = dfj.append(df.iloc[[47,46,45,44,43,42,41,40,39,38,37,36],:])\n",
    "dfj = dfj.append(df.iloc[[59,58,57,56,55,54,53,52,51,50,49,48],:])\n",
    "dfj = dfj.append(df.iloc[[71,70,69,68,67,66,65,64,63,62,61,60],:])\n",
    "dfj = dfj.append(df.iloc[[83,82,81,80,79,78,77,76,75,74,73,72],:])\n",
    "dfj = dfj.append(df.iloc[[95,94,93,92,91,90,89,88,87,86,85,84],:])\n",
    "dfj = dfj.append(df.iloc[[101,100,99,98,97,96,108,107,106,105,104,103],:])\n",
    "dfj = dfj.append(df.iloc[[102,120,119,118,117,116,115,114,113,112,111,110],:])\n",
    "dfj = dfj.append(df.iloc[[109,132,131,130,129,128,127,126,125,124,123,122],:])\n",
    "dfj = dfj.append(df.iloc[[121,136],:])\n",
    "\n",
    "dfj.to_csv(\"data/text.csv\")\n",
    "\n",
    "\"\"\""
   ]
  },
  {
   "cell_type": "code",
   "execution_count": 6,
   "metadata": {},
   "outputs": [
    {
     "data": {
      "text/html": [
       "<div>\n",
       "<style scoped>\n",
       "    .dataframe tbody tr th:only-of-type {\n",
       "        vertical-align: middle;\n",
       "    }\n",
       "\n",
       "    .dataframe tbody tr th {\n",
       "        vertical-align: top;\n",
       "    }\n",
       "\n",
       "    .dataframe thead th {\n",
       "        text-align: right;\n",
       "    }\n",
       "</style>\n",
       "<table border=\"1\" class=\"dataframe\">\n",
       "  <thead>\n",
       "    <tr style=\"text-align: right;\">\n",
       "      <th></th>\n",
       "      <th>body</th>\n",
       "    </tr>\n",
       "  </thead>\n",
       "  <tbody>\n",
       "    <tr>\n",
       "      <td>２００９年１月</td>\n",
       "      <td>日本経済展望２００９年１月調査部　マクロ経済研究センターhttp://www.jri.co....</td>\n",
       "    </tr>\n",
       "    <tr>\n",
       "      <td>２００９年２月</td>\n",
       "      <td>日本経済展望２００９年２月調査部　マクロ経済研究センターhttp://www.jri.co....</td>\n",
       "    </tr>\n",
       "    <tr>\n",
       "      <td>２００９年３月</td>\n",
       "      <td>日本経済展望２００９年３月調査部　マクロ経済研究センターhttp://www.jri.co....</td>\n",
       "    </tr>\n",
       "    <tr>\n",
       "      <td>２００９年４月</td>\n",
       "      <td>日本経済展望２００９年４月調査部　マクロ経済研究センターhttp://www.jri.co....</td>\n",
       "    </tr>\n",
       "    <tr>\n",
       "      <td>２００９年５月</td>\n",
       "      <td>日本経済展望２００９年５月調査部　マクロ経済研究センターhttp://www.jri.co....</td>\n",
       "    </tr>\n",
       "    <tr>\n",
       "      <td>...</td>\n",
       "      <td>...</td>\n",
       "    </tr>\n",
       "    <tr>\n",
       "      <td>２０１９年１０</td>\n",
       "      <td>日本経済展望２０１９年１０月　　　　調査部マクロ経済研究センターhttp://www.jri...</td>\n",
       "    </tr>\n",
       "    <tr>\n",
       "      <td>２０１９年１１</td>\n",
       "      <td>日本経済展望２０１９年１１月　　　　調査部マクロ経済研究センターhttp://www.jri...</td>\n",
       "    </tr>\n",
       "    <tr>\n",
       "      <td>２０１９年１２</td>\n",
       "      <td>日本経済展望２０１９年１２月　　　　調査部マクロ経済研究センターhttp://www.jri...</td>\n",
       "    </tr>\n",
       "    <tr>\n",
       "      <td>２０２０年１月</td>\n",
       "      <td>日本経済展望２０２０年１月　　　　調査部マクロ経済研究センターhttp://www.jri....</td>\n",
       "    </tr>\n",
       "    <tr>\n",
       "      <td>２０２０年２月</td>\n",
       "      <td>日本経済展望２０２０年２月　　　　調査部マクロ経済研究センターhttp://www.jri....</td>\n",
       "    </tr>\n",
       "  </tbody>\n",
       "</table>\n",
       "<p>134 rows × 1 columns</p>\n",
       "</div>"
      ],
      "text/plain": [
       "                                                      body\n",
       "２００９年１月  日本経済展望２００９年１月調査部　マクロ経済研究センターhttp://www.jri.co....\n",
       "２００９年２月  日本経済展望２００９年２月調査部　マクロ経済研究センターhttp://www.jri.co....\n",
       "２００９年３月  日本経済展望２００９年３月調査部　マクロ経済研究センターhttp://www.jri.co....\n",
       "２００９年４月  日本経済展望２００９年４月調査部　マクロ経済研究センターhttp://www.jri.co....\n",
       "２００９年５月  日本経済展望２００９年５月調査部　マクロ経済研究センターhttp://www.jri.co....\n",
       "...                                                    ...\n",
       "２０１９年１０  日本経済展望２０１９年１０月　　　　調査部マクロ経済研究センターhttp://www.jri...\n",
       "２０１９年１１  日本経済展望２０１９年１１月　　　　調査部マクロ経済研究センターhttp://www.jri...\n",
       "２０１９年１２  日本経済展望２０１９年１２月　　　　調査部マクロ経済研究センターhttp://www.jri...\n",
       "２０２０年１月  日本経済展望２０２０年１月　　　　調査部マクロ経済研究センターhttp://www.jri....\n",
       "２０２０年２月  日本経済展望２０２０年２月　　　　調査部マクロ経済研究センターhttp://www.jri....\n",
       "\n",
       "[134 rows x 1 columns]"
      ]
     },
     "execution_count": 6,
     "metadata": {},
     "output_type": "execute_result"
    }
   ],
   "source": [
    "dfj = pd.read_csv(\"data/text.csv\", index_col=0)\n",
    "dfj"
   ]
  },
  {
   "cell_type": "markdown",
   "metadata": {},
   "source": [
    "### Sentiment Analysis"
   ]
  },
  {
   "cell_type": "markdown",
   "metadata": {},
   "source": [
    "Sentiment analysis is useful to examine the simple trend of the text data"
   ]
  },
  {
   "cell_type": "code",
   "execution_count": 7,
   "metadata": {},
   "outputs": [],
   "source": [
    "# https://qiita.com/yukinoi/items/46aa016d83bb0e64f598\n",
    "sentiment = oseti.Analyzer()\n",
    "\n",
    "# create sentiment index for economic reports\n",
    "sent = pd.DataFrame()\n",
    "for i in range(0,134):\n",
    "    sen = pd.DataFrame(sentiment.count_polarity(dfj.body[i]))\n",
    "    pos = sum(sen.positive)\n",
    "    neg = sum(sen.negative)\n",
    "    score = (pos-neg)/(pos+neg)\n",
    "    tmp1 = pd.DataFrame([pos], index={ibc.index[i]}, columns={'positive'})\n",
    "    tmp2 = pd.DataFrame([neg], index={ibc.index[i]}, columns={'negative'})\n",
    "    tmp3 = pd.DataFrame([score], index={ibc.index[i]}, columns={'sentiment'})\n",
    "    tmp = pd.concat([tmp1, tmp2, tmp3], axis=1)\n",
    "    sent = sent.append(tmp)"
   ]
  },
  {
   "cell_type": "code",
   "execution_count": 8,
   "metadata": {
    "scrolled": true
   },
   "outputs": [
    {
     "data": {
      "image/png": "[encoded data removed]",
      "text/plain": [
       "<Figure size 432x288 with 1 Axes>"
      ]
     },
     "metadata": {
      "needs_background": "light"
     },
     "output_type": "display_data"
    }
   ],
   "source": [
    "# visualize sentiment index\n",
    "plt.plot(sent.sentiment)\n",
    "plt.title('Sentiment score')\n",
    "plt.savefig(\"images/sentiment.png\")"
   ]
  },
  {
   "cell_type": "markdown",
   "metadata": {},
   "source": [
    "The shape of sentiment score is roughly similar to the IBC"
   ]
  },
  {
   "cell_type": "code",
   "execution_count": 9,
   "metadata": {
    "scrolled": true
   },
   "outputs": [
    {
     "name": "stdout",
     "output_type": "stream",
     "text": [
      "Correlation between sentiment score and IBC: 0.70\n"
     ]
    }
   ],
   "source": [
    "# check correlation\n",
    "cor = ibc['Coincident Index'].corr(sent.sentiment)\n",
    "print(\"Correlation between sentiment score and IBC: {:.2f}\".format(cor))"
   ]
  },
  {
   "cell_type": "markdown",
   "metadata": {},
   "source": [
    "### Pre-processing"
   ]
  },
  {
   "cell_type": "markdown",
   "metadata": {},
   "source": [
    "To use the text data from the MRPJE as predictors, Natural Language Processing is necessary"
   ]
  },
  {
   "cell_type": "code",
   "execution_count": 10,
   "metadata": {},
   "outputs": [],
   "source": [
    "# Eliminate useless words and adjust text size\n",
    "clean = pd.DataFrame()\n",
    "for i in range(0,134):\n",
    "    text = re.sub('[ ]+', '' , dfj.body[i]) #0-9１-９％円台年月日いるなっところられ\n",
    "    new_text = text[:round(len(text)*1)] # use 100% of text\n",
    "    tmp = pd.DataFrame([new_text], index={ibc.index[i]}, columns={'body'})\n",
    "    clean = clean.append(tmp)\n",
    "\n",
    "# Define the Morphological Analysis function for Japanese\n",
    "# Extract only nouns, verbs, adjectives, and adjective verbs\n",
    "def split_text(text):\n",
    "    tagger = MeCab.Tagger()\n",
    "    words = []\n",
    "    for c in tagger.parse(text).splitlines()[:-1]:\n",
    "        surface, feature = c.split('\\t')\n",
    "        pos = feature.split(',')[0]\n",
    "        if pos=='名詞' or pos=='動詞' or pos=='形容詞' or pos=='形容動詞':\n",
    "            words.append(surface)\n",
    "    return ' '.join(words)\n",
    "\n",
    "# Split texts in reports into words\n",
    "split = pd.DataFrame()\n",
    "for i in range(0,134):\n",
    "    text = split_text(clean.body[i])\n",
    "    tmp = pd.DataFrame([text], index={ibc.index[i]}, columns={'body'})\n",
    "    split = split.append(tmp)"
   ]
  },
  {
   "cell_type": "code",
   "execution_count": 11,
   "metadata": {
    "scrolled": false
   },
   "outputs": [
    {
     "data": {
      "image/png": "[encoded data removed]",
      "text/plain": [
       "<Figure size 432x288 with 1 Axes>"
      ]
     },
     "metadata": {
      "needs_background": "light"
     },
     "output_type": "display_data"
    },
    {
     "data": {
      "text/plain": [
       "<wordcloud.wordcloud.WordCloud at 0x1fd9ea7c688>"
      ]
     },
     "execution_count": 11,
     "metadata": {},
     "output_type": "execute_result"
    }
   ],
   "source": [
    "# Set up and draw the word cloud\n",
    "wordcloud = WordCloud(max_font_size=50, max_words=100, background_color=\"white\", \n",
    "                      font_path='HGRGM.TTC').generate(split.body[0])\n",
    "plt.figure()\n",
    "plt.imshow(wordcloud, interpolation=\"bilinear\")\n",
    "plt.axis(\"off\")\n",
    "plt.show()\n",
    "wordcloud.to_file(\"images/wordcloud.png\")"
   ]
  },
  {
   "cell_type": "markdown",
   "metadata": {},
   "source": [
    "The word could shows economic words, such as export, decrease, expansion, and production"
   ]
  },
  {
   "cell_type": "markdown",
   "metadata": {},
   "source": [
    "## Method 1: Tf-Idf Vectorizer"
   ]
  },
  {
   "cell_type": "markdown",
   "metadata": {},
   "source": [
    "To transform the text data from the MRPJE, this report uses the Tf-idf vectorizer as method 1 and the word embedding as method 2"
   ]
  },
  {
   "cell_type": "code",
   "execution_count": 12,
   "metadata": {},
   "outputs": [
    {
     "data": {
      "text/html": [
       "<div>\n",
       "<style scoped>\n",
       "    .dataframe tbody tr th:only-of-type {\n",
       "        vertical-align: middle;\n",
       "    }\n",
       "\n",
       "    .dataframe tbody tr th {\n",
       "        vertical-align: top;\n",
       "    }\n",
       "\n",
       "    .dataframe thead th {\n",
       "        text-align: right;\n",
       "    }\n",
       "</style>\n",
       "<table border=\"1\" class=\"dataframe\">\n",
       "  <thead>\n",
       "    <tr style=\"text-align: right;\">\n",
       "      <th></th>\n",
       "      <th>00</th>\n",
       "      <th>00 00</th>\n",
       "      <th>00 00 00</th>\n",
       "      <th>00 00 40</th>\n",
       "      <th>00 00 41</th>\n",
       "      <th>00 01</th>\n",
       "      <th>00 01 3１</th>\n",
       "      <th>00 02</th>\n",
       "      <th>00 03</th>\n",
       "      <th>00 04</th>\n",
       "      <th>...</th>\n",
       "      <th>ﾕｰﾛ ヵ月 10年</th>\n",
       "      <th>ﾗｸﾞ</th>\n",
       "      <th>ﾗｸﾞ 次数</th>\n",
       "      <th>ﾗｸﾞ 次数 ols</th>\n",
       "      <th>ﾚｰﾄ</th>\n",
       "      <th>ﾚｰﾄ com</th>\n",
       "      <th>ﾚｰﾄ com gsci</th>\n",
       "      <th>ﾛｼｱ</th>\n",
       "      <th>ﾛｼｱ 豪州</th>\n",
       "      <th>ﾛｼｱ 豪州 中南米</th>\n",
       "    </tr>\n",
       "    <tr>\n",
       "      <th>time</th>\n",
       "      <th></th>\n",
       "      <th></th>\n",
       "      <th></th>\n",
       "      <th></th>\n",
       "      <th></th>\n",
       "      <th></th>\n",
       "      <th></th>\n",
       "      <th></th>\n",
       "      <th></th>\n",
       "      <th></th>\n",
       "      <th></th>\n",
       "      <th></th>\n",
       "      <th></th>\n",
       "      <th></th>\n",
       "      <th></th>\n",
       "      <th></th>\n",
       "      <th></th>\n",
       "      <th></th>\n",
       "      <th></th>\n",
       "      <th></th>\n",
       "      <th></th>\n",
       "    </tr>\n",
       "  </thead>\n",
       "  <tbody>\n",
       "    <tr>\n",
       "      <td>2019-10-01</td>\n",
       "      <td>8.0</td>\n",
       "      <td>0.000000</td>\n",
       "      <td>0.0</td>\n",
       "      <td>0.0</td>\n",
       "      <td>0.0</td>\n",
       "      <td>0.0</td>\n",
       "      <td>0.0</td>\n",
       "      <td>0.000000</td>\n",
       "      <td>0.0</td>\n",
       "      <td>0.000000</td>\n",
       "      <td>...</td>\n",
       "      <td>2.855876</td>\n",
       "      <td>0.0</td>\n",
       "      <td>0.0</td>\n",
       "      <td>0.0</td>\n",
       "      <td>0.0</td>\n",
       "      <td>0.0</td>\n",
       "      <td>0.0</td>\n",
       "      <td>0.0</td>\n",
       "      <td>0.0</td>\n",
       "      <td>0.0</td>\n",
       "    </tr>\n",
       "    <tr>\n",
       "      <td>2019-11-01</td>\n",
       "      <td>8.0</td>\n",
       "      <td>0.000000</td>\n",
       "      <td>0.0</td>\n",
       "      <td>0.0</td>\n",
       "      <td>0.0</td>\n",
       "      <td>0.0</td>\n",
       "      <td>0.0</td>\n",
       "      <td>0.000000</td>\n",
       "      <td>0.0</td>\n",
       "      <td>0.000000</td>\n",
       "      <td>...</td>\n",
       "      <td>2.855876</td>\n",
       "      <td>0.0</td>\n",
       "      <td>0.0</td>\n",
       "      <td>0.0</td>\n",
       "      <td>0.0</td>\n",
       "      <td>0.0</td>\n",
       "      <td>0.0</td>\n",
       "      <td>0.0</td>\n",
       "      <td>0.0</td>\n",
       "      <td>0.0</td>\n",
       "    </tr>\n",
       "    <tr>\n",
       "      <td>2019-12-01</td>\n",
       "      <td>9.0</td>\n",
       "      <td>0.000000</td>\n",
       "      <td>0.0</td>\n",
       "      <td>0.0</td>\n",
       "      <td>0.0</td>\n",
       "      <td>0.0</td>\n",
       "      <td>0.0</td>\n",
       "      <td>0.000000</td>\n",
       "      <td>0.0</td>\n",
       "      <td>0.000000</td>\n",
       "      <td>...</td>\n",
       "      <td>2.855876</td>\n",
       "      <td>0.0</td>\n",
       "      <td>0.0</td>\n",
       "      <td>0.0</td>\n",
       "      <td>0.0</td>\n",
       "      <td>0.0</td>\n",
       "      <td>0.0</td>\n",
       "      <td>0.0</td>\n",
       "      <td>0.0</td>\n",
       "      <td>0.0</td>\n",
       "    </tr>\n",
       "    <tr>\n",
       "      <td>2020-01-01</td>\n",
       "      <td>16.0</td>\n",
       "      <td>5.921672</td>\n",
       "      <td>0.0</td>\n",
       "      <td>0.0</td>\n",
       "      <td>0.0</td>\n",
       "      <td>0.0</td>\n",
       "      <td>0.0</td>\n",
       "      <td>3.825833</td>\n",
       "      <td>0.0</td>\n",
       "      <td>3.825833</td>\n",
       "      <td>...</td>\n",
       "      <td>2.855876</td>\n",
       "      <td>0.0</td>\n",
       "      <td>0.0</td>\n",
       "      <td>0.0</td>\n",
       "      <td>0.0</td>\n",
       "      <td>0.0</td>\n",
       "      <td>0.0</td>\n",
       "      <td>0.0</td>\n",
       "      <td>0.0</td>\n",
       "      <td>0.0</td>\n",
       "    </tr>\n",
       "    <tr>\n",
       "      <td>2020-02-01</td>\n",
       "      <td>14.0</td>\n",
       "      <td>5.921672</td>\n",
       "      <td>0.0</td>\n",
       "      <td>0.0</td>\n",
       "      <td>0.0</td>\n",
       "      <td>0.0</td>\n",
       "      <td>0.0</td>\n",
       "      <td>3.825833</td>\n",
       "      <td>0.0</td>\n",
       "      <td>3.825833</td>\n",
       "      <td>...</td>\n",
       "      <td>2.855876</td>\n",
       "      <td>0.0</td>\n",
       "      <td>0.0</td>\n",
       "      <td>0.0</td>\n",
       "      <td>0.0</td>\n",
       "      <td>0.0</td>\n",
       "      <td>0.0</td>\n",
       "      <td>0.0</td>\n",
       "      <td>0.0</td>\n",
       "      <td>0.0</td>\n",
       "    </tr>\n",
       "  </tbody>\n",
       "</table>\n",
       "<p>5 rows × 39956 columns</p>\n",
       "</div>"
      ],
      "text/plain": [
       "              00     00 00  00 00 00  00 00 40  00 00 41  00 01  00 01 3１  \\\n",
       "time                                                                        \n",
       "2019-10-01   8.0  0.000000       0.0       0.0       0.0    0.0       0.0   \n",
       "2019-11-01   8.0  0.000000       0.0       0.0       0.0    0.0       0.0   \n",
       "2019-12-01   9.0  0.000000       0.0       0.0       0.0    0.0       0.0   \n",
       "2020-01-01  16.0  5.921672       0.0       0.0       0.0    0.0       0.0   \n",
       "2020-02-01  14.0  5.921672       0.0       0.0       0.0    0.0       0.0   \n",
       "\n",
       "               00 02  00 03     00 04  ...  ﾕｰﾛ ヵ月 10年  ﾗｸﾞ  ﾗｸﾞ 次数  \\\n",
       "time                                   ...                            \n",
       "2019-10-01  0.000000    0.0  0.000000  ...    2.855876  0.0     0.0   \n",
       "2019-11-01  0.000000    0.0  0.000000  ...    2.855876  0.0     0.0   \n",
       "2019-12-01  0.000000    0.0  0.000000  ...    2.855876  0.0     0.0   \n",
       "2020-01-01  3.825833    0.0  3.825833  ...    2.855876  0.0     0.0   \n",
       "2020-02-01  3.825833    0.0  3.825833  ...    2.855876  0.0     0.0   \n",
       "\n",
       "            ﾗｸﾞ 次数 ols  ﾚｰﾄ  ﾚｰﾄ com  ﾚｰﾄ com gsci  ﾛｼｱ  ﾛｼｱ 豪州  ﾛｼｱ 豪州 中南米  \n",
       "time                                                                         \n",
       "2019-10-01         0.0  0.0      0.0           0.0  0.0     0.0         0.0  \n",
       "2019-11-01         0.0  0.0      0.0           0.0  0.0     0.0         0.0  \n",
       "2019-12-01         0.0  0.0      0.0           0.0  0.0     0.0         0.0  \n",
       "2020-01-01         0.0  0.0      0.0           0.0  0.0     0.0         0.0  \n",
       "2020-02-01         0.0  0.0      0.0           0.0  0.0     0.0         0.0  \n",
       "\n",
       "[5 rows x 39956 columns]"
      ]
     },
     "execution_count": 12,
     "metadata": {},
     "output_type": "execute_result"
    }
   ],
   "source": [
    "# TfidfVectorizer\n",
    "vec_tfidf = TfidfVectorizer(ngram_range=(1, 3), min_df=5, norm=None)\n",
    "xform_tfidf = vec_tfidf.fit_transform(split.body).toarray()\n",
    "col_names = vec_tfidf.get_feature_names()\n",
    "xform_tfidf = pd.DataFrame(xform_tfidf, index=ibc.index, columns=col_names)\n",
    "\n",
    "xform_tfidf.tail()"
   ]
  },
  {
   "cell_type": "code",
   "execution_count": 13,
   "metadata": {},
   "outputs": [
    {
     "data": {
      "text/html": [
       "<div>\n",
       "<style scoped>\n",
       "    .dataframe tbody tr th:only-of-type {\n",
       "        vertical-align: middle;\n",
       "    }\n",
       "\n",
       "    .dataframe tbody tr th {\n",
       "        vertical-align: top;\n",
       "    }\n",
       "\n",
       "    .dataframe thead th {\n",
       "        text-align: right;\n",
       "    }\n",
       "</style>\n",
       "<table border=\"1\" class=\"dataframe\">\n",
       "  <thead>\n",
       "    <tr style=\"text-align: right;\">\n",
       "      <th></th>\n",
       "      <th>0</th>\n",
       "      <th>1</th>\n",
       "      <th>2</th>\n",
       "      <th>3</th>\n",
       "      <th>4</th>\n",
       "      <th>5</th>\n",
       "      <th>6</th>\n",
       "    </tr>\n",
       "    <tr>\n",
       "      <th>time</th>\n",
       "      <th></th>\n",
       "      <th></th>\n",
       "      <th></th>\n",
       "      <th></th>\n",
       "      <th></th>\n",
       "      <th></th>\n",
       "      <th></th>\n",
       "    </tr>\n",
       "  </thead>\n",
       "  <tbody>\n",
       "    <tr>\n",
       "      <td>2019-10-01</td>\n",
       "      <td>-29.826746</td>\n",
       "      <td>159.462290</td>\n",
       "      <td>116.346435</td>\n",
       "      <td>-43.289380</td>\n",
       "      <td>-69.447736</td>\n",
       "      <td>19.059965</td>\n",
       "      <td>-11.227102</td>\n",
       "    </tr>\n",
       "    <tr>\n",
       "      <td>2019-11-01</td>\n",
       "      <td>-27.898796</td>\n",
       "      <td>152.783693</td>\n",
       "      <td>114.235361</td>\n",
       "      <td>-39.280411</td>\n",
       "      <td>-68.179372</td>\n",
       "      <td>21.948054</td>\n",
       "      <td>-11.972601</td>\n",
       "    </tr>\n",
       "    <tr>\n",
       "      <td>2019-12-01</td>\n",
       "      <td>-25.728440</td>\n",
       "      <td>148.310132</td>\n",
       "      <td>108.227791</td>\n",
       "      <td>-39.247961</td>\n",
       "      <td>-65.144782</td>\n",
       "      <td>24.969989</td>\n",
       "      <td>-9.781198</td>\n",
       "    </tr>\n",
       "    <tr>\n",
       "      <td>2020-01-01</td>\n",
       "      <td>-25.601532</td>\n",
       "      <td>144.544650</td>\n",
       "      <td>104.255241</td>\n",
       "      <td>-34.285396</td>\n",
       "      <td>-60.290927</td>\n",
       "      <td>21.027986</td>\n",
       "      <td>-6.620104</td>\n",
       "    </tr>\n",
       "    <tr>\n",
       "      <td>2020-02-01</td>\n",
       "      <td>-20.669564</td>\n",
       "      <td>141.173857</td>\n",
       "      <td>102.069478</td>\n",
       "      <td>-35.115345</td>\n",
       "      <td>-60.829891</td>\n",
       "      <td>19.731396</td>\n",
       "      <td>-10.046923</td>\n",
       "    </tr>\n",
       "  </tbody>\n",
       "</table>\n",
       "</div>"
      ],
      "text/plain": [
       "                    0           1           2          3          4  \\\n",
       "time                                                                  \n",
       "2019-10-01 -29.826746  159.462290  116.346435 -43.289380 -69.447736   \n",
       "2019-11-01 -27.898796  152.783693  114.235361 -39.280411 -68.179372   \n",
       "2019-12-01 -25.728440  148.310132  108.227791 -39.247961 -65.144782   \n",
       "2020-01-01 -25.601532  144.544650  104.255241 -34.285396 -60.290927   \n",
       "2020-02-01 -20.669564  141.173857  102.069478 -35.115345 -60.829891   \n",
       "\n",
       "                    5          6  \n",
       "time                              \n",
       "2019-10-01  19.059965 -11.227102  \n",
       "2019-11-01  21.948054 -11.972601  \n",
       "2019-12-01  24.969989  -9.781198  \n",
       "2020-01-01  21.027986  -6.620104  \n",
       "2020-02-01  19.731396 -10.046923  "
      ]
     },
     "execution_count": 13,
     "metadata": {},
     "output_type": "execute_result"
    }
   ],
   "source": [
    "# Define PCA function\n",
    "def iterate_var(var_target):\n",
    "    var_fig = 0.0\n",
    "    cnt = 1\n",
    "    while var_fig <= var_target:\n",
    "        pca = PCA(n_components=cnt)\n",
    "        dim = pca.fit_transform(xform_tfidf)\n",
    "        var_fig = sum(pca.explained_variance_ratio_) \n",
    "        cnt += 1\n",
    "    return dim, pca\n",
    "\n",
    "# Set explained variance\n",
    "dim, pca = iterate_var(0.5)\n",
    "dim_j = pd.DataFrame(dim, index=ibc.index)\n",
    "\n",
    "dim_j.tail()"
   ]
  },
  {
   "cell_type": "markdown",
   "metadata": {},
   "source": [
    "Since the number of variables in vectors is too large, this code condenses them into 7 variables using PCA"
   ]
  },
  {
   "cell_type": "markdown",
   "metadata": {},
   "source": [
    "### Nowcasting using RNN models"
   ]
  },
  {
   "cell_type": "code",
   "execution_count": 14,
   "metadata": {},
   "outputs": [
    {
     "data": {
      "text/html": [
       "<div>\n",
       "<style scoped>\n",
       "    .dataframe tbody tr th:only-of-type {\n",
       "        vertical-align: middle;\n",
       "    }\n",
       "\n",
       "    .dataframe tbody tr th {\n",
       "        vertical-align: top;\n",
       "    }\n",
       "\n",
       "    .dataframe thead th {\n",
       "        text-align: right;\n",
       "    }\n",
       "</style>\n",
       "<table border=\"1\" class=\"dataframe\">\n",
       "  <thead>\n",
       "    <tr style=\"text-align: right;\">\n",
       "      <th></th>\n",
       "      <th>Coincident Index</th>\n",
       "      <th>0</th>\n",
       "      <th>1</th>\n",
       "      <th>2</th>\n",
       "      <th>3</th>\n",
       "      <th>4</th>\n",
       "      <th>5</th>\n",
       "      <th>6</th>\n",
       "    </tr>\n",
       "    <tr>\n",
       "      <th>time</th>\n",
       "      <th></th>\n",
       "      <th></th>\n",
       "      <th></th>\n",
       "      <th></th>\n",
       "      <th></th>\n",
       "      <th></th>\n",
       "      <th></th>\n",
       "      <th></th>\n",
       "    </tr>\n",
       "  </thead>\n",
       "  <tbody>\n",
       "    <tr>\n",
       "      <td>2019-10-01</td>\n",
       "      <td>96.1</td>\n",
       "      <td>-29.826746</td>\n",
       "      <td>159.462290</td>\n",
       "      <td>116.346435</td>\n",
       "      <td>-43.289380</td>\n",
       "      <td>-69.447736</td>\n",
       "      <td>19.059965</td>\n",
       "      <td>-11.227102</td>\n",
       "    </tr>\n",
       "    <tr>\n",
       "      <td>2019-11-01</td>\n",
       "      <td>95.1</td>\n",
       "      <td>-27.898796</td>\n",
       "      <td>152.783693</td>\n",
       "      <td>114.235361</td>\n",
       "      <td>-39.280411</td>\n",
       "      <td>-68.179372</td>\n",
       "      <td>21.948054</td>\n",
       "      <td>-11.972601</td>\n",
       "    </tr>\n",
       "    <tr>\n",
       "      <td>2019-12-01</td>\n",
       "      <td>94.3</td>\n",
       "      <td>-25.728440</td>\n",
       "      <td>148.310132</td>\n",
       "      <td>108.227791</td>\n",
       "      <td>-39.247961</td>\n",
       "      <td>-65.144782</td>\n",
       "      <td>24.969989</td>\n",
       "      <td>-9.781198</td>\n",
       "    </tr>\n",
       "    <tr>\n",
       "      <td>2020-01-01</td>\n",
       "      <td>95.7</td>\n",
       "      <td>-25.601532</td>\n",
       "      <td>144.544650</td>\n",
       "      <td>104.255241</td>\n",
       "      <td>-34.285396</td>\n",
       "      <td>-60.290927</td>\n",
       "      <td>21.027986</td>\n",
       "      <td>-6.620104</td>\n",
       "    </tr>\n",
       "    <tr>\n",
       "      <td>2020-02-01</td>\n",
       "      <td>95.4</td>\n",
       "      <td>-20.669564</td>\n",
       "      <td>141.173857</td>\n",
       "      <td>102.069478</td>\n",
       "      <td>-35.115345</td>\n",
       "      <td>-60.829891</td>\n",
       "      <td>19.731396</td>\n",
       "      <td>-10.046923</td>\n",
       "    </tr>\n",
       "  </tbody>\n",
       "</table>\n",
       "</div>"
      ],
      "text/plain": [
       "            Coincident Index          0           1           2          3  \\\n",
       "time                                                                         \n",
       "2019-10-01              96.1 -29.826746  159.462290  116.346435 -43.289380   \n",
       "2019-11-01              95.1 -27.898796  152.783693  114.235361 -39.280411   \n",
       "2019-12-01              94.3 -25.728440  148.310132  108.227791 -39.247961   \n",
       "2020-01-01              95.7 -25.601532  144.544650  104.255241 -34.285396   \n",
       "2020-02-01              95.4 -20.669564  141.173857  102.069478 -35.115345   \n",
       "\n",
       "                    4          5          6  \n",
       "time                                         \n",
       "2019-10-01 -69.447736  19.059965 -11.227102  \n",
       "2019-11-01 -68.179372  21.948054 -11.972601  \n",
       "2019-12-01 -65.144782  24.969989  -9.781198  \n",
       "2020-01-01 -60.290927  21.027986  -6.620104  \n",
       "2020-02-01 -60.829891  19.731396 -10.046923  "
      ]
     },
     "execution_count": 14,
     "metadata": {},
     "output_type": "execute_result"
    }
   ],
   "source": [
    "# set a target and features\n",
    "features = pd.concat([ibc.iloc[:,0], dim_j], axis=1)\n",
    "features.tail()"
   ]
  },
  {
   "cell_type": "code",
   "execution_count": 15,
   "metadata": {},
   "outputs": [
    {
     "name": "stdout",
     "output_type": "stream",
     "text": [
      "107\n"
     ]
    }
   ],
   "source": [
    "# set training percentage\n",
    "TRAIN_SPLIT = round(0.8*len(features))\n",
    "print(TRAIN_SPLIT)\n",
    "\n",
    "# feature scaling\n",
    "dataset = features.values\n",
    "data_mean = dataset[:TRAIN_SPLIT].mean(axis=0)\n",
    "data_std = dataset[:TRAIN_SPLIT].std(axis=0)\n",
    "dataset = (dataset-data_mean)/data_std"
   ]
  },
  {
   "cell_type": "code",
   "execution_count": 16,
   "metadata": {},
   "outputs": [],
   "source": [
    "def multivariate_data(dataset, target, start_index, end_index, \n",
    "                      history_size, target_size, step, single_step=False):\n",
    "  data = []\n",
    "  labels = []\n",
    "\n",
    "  start_index = start_index + history_size\n",
    "  if end_index is None:\n",
    "    end_index = len(dataset) - target_size\n",
    "\n",
    "  for i in range(start_index, end_index):\n",
    "    # add current dataset\n",
    "    indices = range(i-history_size, i+1, step)\n",
    "    temp = pd.DataFrame(dataset[indices])\n",
    "    # replace current target to previous one\n",
    "    temp.iat[history_size, 0] = temp.iat[history_size-1, 0]\n",
    "    data.append(np.array(temp))\n",
    "\n",
    "    if single_step:\n",
    "      labels.append(target[i+target_size])\n",
    "    else:\n",
    "      labels.append(target[i:i+target_size])\n",
    "\n",
    "  return np.array(data), np.array(labels)"
   ]
  },
  {
   "cell_type": "code",
   "execution_count": 17,
   "metadata": {},
   "outputs": [],
   "source": [
    "# create training and test data\n",
    "past_history = 6\n",
    "future_target = 0\n",
    "STEP = 1\n",
    "\n",
    "x_train_single, y_train_single = multivariate_data(dataset, dataset[:,0], 0, TRAIN_SPLIT, \n",
    "                                                   past_history, future_target, STEP, single_step=True)\n",
    "x_val_single, y_val_single = multivariate_data(dataset, dataset[:,0], TRAIN_SPLIT, None, \n",
    "                                               past_history, future_target, STEP, single_step=True)"
   ]
  },
  {
   "cell_type": "code",
   "execution_count": 18,
   "metadata": {},
   "outputs": [
    {
     "data": {
      "text/html": [
       "<div>\n",
       "<style scoped>\n",
       "    .dataframe tbody tr th:only-of-type {\n",
       "        vertical-align: middle;\n",
       "    }\n",
       "\n",
       "    .dataframe tbody tr th {\n",
       "        vertical-align: top;\n",
       "    }\n",
       "\n",
       "    .dataframe thead th {\n",
       "        text-align: right;\n",
       "    }\n",
       "</style>\n",
       "<table border=\"1\" class=\"dataframe\">\n",
       "  <thead>\n",
       "    <tr style=\"text-align: right;\">\n",
       "      <th></th>\n",
       "      <th>0</th>\n",
       "      <th>1</th>\n",
       "      <th>2</th>\n",
       "      <th>3</th>\n",
       "      <th>4</th>\n",
       "      <th>5</th>\n",
       "      <th>6</th>\n",
       "      <th>7</th>\n",
       "    </tr>\n",
       "  </thead>\n",
       "  <tbody>\n",
       "    <tr>\n",
       "      <td>0</td>\n",
       "      <td>-2.256130</td>\n",
       "      <td>1.258891</td>\n",
       "      <td>0.317069</td>\n",
       "      <td>-0.187749</td>\n",
       "      <td>-1.097711</td>\n",
       "      <td>0.503052</td>\n",
       "      <td>1.519001</td>\n",
       "      <td>0.975888</td>\n",
       "    </tr>\n",
       "    <tr>\n",
       "      <td>1</td>\n",
       "      <td>-2.897346</td>\n",
       "      <td>1.230084</td>\n",
       "      <td>0.329513</td>\n",
       "      <td>-0.181075</td>\n",
       "      <td>-1.071578</td>\n",
       "      <td>0.465169</td>\n",
       "      <td>1.561553</td>\n",
       "      <td>1.011113</td>\n",
       "    </tr>\n",
       "    <tr>\n",
       "      <td>2</td>\n",
       "      <td>-2.980466</td>\n",
       "      <td>1.216974</td>\n",
       "      <td>0.377558</td>\n",
       "      <td>-0.170027</td>\n",
       "      <td>-1.106317</td>\n",
       "      <td>0.506941</td>\n",
       "      <td>1.764717</td>\n",
       "      <td>1.152233</td>\n",
       "    </tr>\n",
       "    <tr>\n",
       "      <td>3</td>\n",
       "      <td>-2.849848</td>\n",
       "      <td>1.243156</td>\n",
       "      <td>0.352513</td>\n",
       "      <td>-0.172640</td>\n",
       "      <td>-1.152814</td>\n",
       "      <td>0.557831</td>\n",
       "      <td>1.770553</td>\n",
       "      <td>1.175435</td>\n",
       "    </tr>\n",
       "    <tr>\n",
       "      <td>4</td>\n",
       "      <td>-2.624235</td>\n",
       "      <td>1.237340</td>\n",
       "      <td>0.333585</td>\n",
       "      <td>-0.196838</td>\n",
       "      <td>-1.167165</td>\n",
       "      <td>0.583188</td>\n",
       "      <td>1.628425</td>\n",
       "      <td>1.084480</td>\n",
       "    </tr>\n",
       "    <tr>\n",
       "      <td>5</td>\n",
       "      <td>-2.493617</td>\n",
       "      <td>1.199084</td>\n",
       "      <td>0.371268</td>\n",
       "      <td>-0.147160</td>\n",
       "      <td>-1.160706</td>\n",
       "      <td>0.611382</td>\n",
       "      <td>1.599287</td>\n",
       "      <td>1.000194</td>\n",
       "    </tr>\n",
       "    <tr>\n",
       "      <td>6</td>\n",
       "      <td>-2.410497</td>\n",
       "      <td>1.262737</td>\n",
       "      <td>0.285138</td>\n",
       "      <td>-0.163601</td>\n",
       "      <td>-1.437185</td>\n",
       "      <td>0.784355</td>\n",
       "      <td>1.689783</td>\n",
       "      <td>1.171628</td>\n",
       "    </tr>\n",
       "  </tbody>\n",
       "</table>\n",
       "</div>"
      ],
      "text/plain": [
       "          0         1         2         3         4         5         6  \\\n",
       "0 -2.256130  1.258891  0.317069 -0.187749 -1.097711  0.503052  1.519001   \n",
       "1 -2.897346  1.230084  0.329513 -0.181075 -1.071578  0.465169  1.561553   \n",
       "2 -2.980466  1.216974  0.377558 -0.170027 -1.106317  0.506941  1.764717   \n",
       "3 -2.849848  1.243156  0.352513 -0.172640 -1.152814  0.557831  1.770553   \n",
       "4 -2.624235  1.237340  0.333585 -0.196838 -1.167165  0.583188  1.628425   \n",
       "5 -2.493617  1.199084  0.371268 -0.147160 -1.160706  0.611382  1.599287   \n",
       "6 -2.410497  1.262737  0.285138 -0.163601 -1.437185  0.784355  1.689783   \n",
       "\n",
       "          7  \n",
       "0  0.975888  \n",
       "1  1.011113  \n",
       "2  1.152233  \n",
       "3  1.175435  \n",
       "4  1.084480  \n",
       "5  1.000194  \n",
       "6  1.171628  "
      ]
     },
     "execution_count": 18,
     "metadata": {},
     "output_type": "execute_result"
    }
   ],
   "source": [
    "# dataset\n",
    "pd.DataFrame(dataset).head(7)"
   ]
  },
  {
   "cell_type": "code",
   "execution_count": 19,
   "metadata": {
    "scrolled": true
   },
   "outputs": [
    {
     "data": {
      "text/html": [
       "<div>\n",
       "<style scoped>\n",
       "    .dataframe tbody tr th:only-of-type {\n",
       "        vertical-align: middle;\n",
       "    }\n",
       "\n",
       "    .dataframe tbody tr th {\n",
       "        vertical-align: top;\n",
       "    }\n",
       "\n",
       "    .dataframe thead th {\n",
       "        text-align: right;\n",
       "    }\n",
       "</style>\n",
       "<table border=\"1\" class=\"dataframe\">\n",
       "  <thead>\n",
       "    <tr style=\"text-align: right;\">\n",
       "      <th></th>\n",
       "      <th>0</th>\n",
       "      <th>1</th>\n",
       "      <th>2</th>\n",
       "      <th>3</th>\n",
       "      <th>4</th>\n",
       "      <th>5</th>\n",
       "      <th>6</th>\n",
       "      <th>7</th>\n",
       "    </tr>\n",
       "  </thead>\n",
       "  <tbody>\n",
       "    <tr>\n",
       "      <td>0</td>\n",
       "      <td>-2.256130</td>\n",
       "      <td>1.258891</td>\n",
       "      <td>0.317069</td>\n",
       "      <td>-0.187749</td>\n",
       "      <td>-1.097711</td>\n",
       "      <td>0.503052</td>\n",
       "      <td>1.519001</td>\n",
       "      <td>0.975888</td>\n",
       "    </tr>\n",
       "    <tr>\n",
       "      <td>1</td>\n",
       "      <td>-2.897346</td>\n",
       "      <td>1.230084</td>\n",
       "      <td>0.329513</td>\n",
       "      <td>-0.181075</td>\n",
       "      <td>-1.071578</td>\n",
       "      <td>0.465169</td>\n",
       "      <td>1.561553</td>\n",
       "      <td>1.011113</td>\n",
       "    </tr>\n",
       "    <tr>\n",
       "      <td>2</td>\n",
       "      <td>-2.980466</td>\n",
       "      <td>1.216974</td>\n",
       "      <td>0.377558</td>\n",
       "      <td>-0.170027</td>\n",
       "      <td>-1.106317</td>\n",
       "      <td>0.506941</td>\n",
       "      <td>1.764717</td>\n",
       "      <td>1.152233</td>\n",
       "    </tr>\n",
       "    <tr>\n",
       "      <td>3</td>\n",
       "      <td>-2.849848</td>\n",
       "      <td>1.243156</td>\n",
       "      <td>0.352513</td>\n",
       "      <td>-0.172640</td>\n",
       "      <td>-1.152814</td>\n",
       "      <td>0.557831</td>\n",
       "      <td>1.770553</td>\n",
       "      <td>1.175435</td>\n",
       "    </tr>\n",
       "    <tr>\n",
       "      <td>4</td>\n",
       "      <td>-2.624235</td>\n",
       "      <td>1.237340</td>\n",
       "      <td>0.333585</td>\n",
       "      <td>-0.196838</td>\n",
       "      <td>-1.167165</td>\n",
       "      <td>0.583188</td>\n",
       "      <td>1.628425</td>\n",
       "      <td>1.084480</td>\n",
       "    </tr>\n",
       "    <tr>\n",
       "      <td>5</td>\n",
       "      <td>-2.493617</td>\n",
       "      <td>1.199084</td>\n",
       "      <td>0.371268</td>\n",
       "      <td>-0.147160</td>\n",
       "      <td>-1.160706</td>\n",
       "      <td>0.611382</td>\n",
       "      <td>1.599287</td>\n",
       "      <td>1.000194</td>\n",
       "    </tr>\n",
       "    <tr>\n",
       "      <td>6</td>\n",
       "      <td>-2.493617</td>\n",
       "      <td>1.262737</td>\n",
       "      <td>0.285138</td>\n",
       "      <td>-0.163601</td>\n",
       "      <td>-1.437185</td>\n",
       "      <td>0.784355</td>\n",
       "      <td>1.689783</td>\n",
       "      <td>1.171628</td>\n",
       "    </tr>\n",
       "  </tbody>\n",
       "</table>\n",
       "</div>"
      ],
      "text/plain": [
       "          0         1         2         3         4         5         6  \\\n",
       "0 -2.256130  1.258891  0.317069 -0.187749 -1.097711  0.503052  1.519001   \n",
       "1 -2.897346  1.230084  0.329513 -0.181075 -1.071578  0.465169  1.561553   \n",
       "2 -2.980466  1.216974  0.377558 -0.170027 -1.106317  0.506941  1.764717   \n",
       "3 -2.849848  1.243156  0.352513 -0.172640 -1.152814  0.557831  1.770553   \n",
       "4 -2.624235  1.237340  0.333585 -0.196838 -1.167165  0.583188  1.628425   \n",
       "5 -2.493617  1.199084  0.371268 -0.147160 -1.160706  0.611382  1.599287   \n",
       "6 -2.493617  1.262737  0.285138 -0.163601 -1.437185  0.784355  1.689783   \n",
       "\n",
       "          7  \n",
       "0  0.975888  \n",
       "1  1.011113  \n",
       "2  1.152233  \n",
       "3  1.175435  \n",
       "4  1.084480  \n",
       "5  1.000194  \n",
       "6  1.171628  "
      ]
     },
     "execution_count": 19,
     "metadata": {},
     "output_type": "execute_result"
    }
   ],
   "source": [
    "# X variables\n",
    "pd.DataFrame(x_train_single[0])"
   ]
  },
  {
   "cell_type": "markdown",
   "metadata": {},
   "source": [
    "To nowcast the IBC, the training data X consists of not only the past IBC and the text vectors, but also the current text vectors. However, the python produces an error when the current IBC in the training data is missing. Therefore, this code temporary uses the previous value of the IBC as the missing predictor."
   ]
  },
  {
   "cell_type": "code",
   "execution_count": 20,
   "metadata": {},
   "outputs": [
    {
     "data": {
      "text/plain": [
       "-2.410496602587507"
      ]
     },
     "execution_count": 20,
     "metadata": {},
     "output_type": "execute_result"
    }
   ],
   "source": [
    "# y variable\n",
    "y_train_single[0]"
   ]
  },
  {
   "cell_type": "code",
   "execution_count": 21,
   "metadata": {},
   "outputs": [],
   "source": [
    "# shuffle, batch, and cache the dataset\n",
    "\n",
    "BATCH_SIZE = 32\n",
    "BUFFER_SIZE = 100\n",
    "\n",
    "train_data_single = tf.data.Dataset.from_tensor_slices((x_train_single, y_train_single))\n",
    "train_data_single = train_data_single.cache().shuffle(BUFFER_SIZE).batch(BATCH_SIZE).repeat()\n",
    "\n",
    "val_data_single = tf.data.Dataset.from_tensor_slices((x_val_single, y_val_single))\n",
    "val_data_single = val_data_single.batch(BATCH_SIZE).repeat()"
   ]
  },
  {
   "cell_type": "markdown",
   "metadata": {},
   "source": [
    "#### Simple RNN"
   ]
  },
  {
   "cell_type": "code",
   "execution_count": 68,
   "metadata": {
    "scrolled": true
   },
   "outputs": [
    {
     "name": "stdout",
     "output_type": "stream",
     "text": [
      "Model: \"sequential_10\"\n",
      "_________________________________________________________________\n",
      "Layer (type)                 Output Shape              Param #   \n",
      "=================================================================\n",
      "simple_rnn_4 (SimpleRNN)     (None, 128)               17536     \n",
      "_________________________________________________________________\n",
      "dense_10 (Dense)             (None, 1)                 129       \n",
      "=================================================================\n",
      "Total params: 17,665\n",
      "Trainable params: 17,665\n",
      "Non-trainable params: 0\n",
      "_________________________________________________________________\n"
     ]
    }
   ],
   "source": [
    "# construct the model\n",
    "\n",
    "model = tf.keras.models.Sequential()\n",
    "model.add(tf.keras.layers.SimpleRNN(128, input_shape=x_train_single.shape[-2:]))\n",
    "model.add(tf.keras.layers.Dense(1))\n",
    "\n",
    "model.compile(optimizer=tf.keras.optimizers.RMSprop(lr=0.0001), loss='mae') #RMSprop Adam SGD\n",
    "\n",
    "model.summary()"
   ]
  },
  {
   "cell_type": "code",
   "execution_count": 69,
   "metadata": {
    "scrolled": false
   },
   "outputs": [
    {
     "name": "stdout",
     "output_type": "stream",
     "text": [
      "Train for 200 steps, validate for 50 steps\n",
      "Epoch 1/10\n",
      "200/200 [==============================] - 3s 17ms/step - loss: 0.1746 - val_loss: 0.2054\n",
      "Epoch 2/10\n",
      "200/200 [==============================] - 2s 9ms/step - loss: 0.0859 - val_loss: 0.2226\n",
      "Epoch 3/10\n",
      "200/200 [==============================] - 1s 6ms/step - loss: 0.0714 - val_loss: 0.1875\n",
      "Epoch 4/10\n",
      "200/200 [==============================] - 1s 6ms/step - loss: 0.0633 - val_loss: 0.2220\n",
      "Epoch 5/10\n",
      "200/200 [==============================] - 1s 6ms/step - loss: 0.0605 - val_loss: 0.1823\n",
      "Epoch 6/10\n",
      "200/200 [==============================] - 1s 6ms/step - loss: 0.0530 - val_loss: 0.2095\n",
      "Epoch 7/10\n",
      "200/200 [==============================] - 2s 8ms/step - loss: 0.0483 - val_loss: 0.1834\n",
      "Epoch 8/10\n",
      "200/200 [==============================] - 1s 6ms/step - loss: 0.0453 - val_loss: 0.1931\n",
      "Epoch 9/10\n",
      "200/200 [==============================] - 1s 6ms/step - loss: 0.0445 - val_loss: 0.1831\n",
      "Epoch 10/10\n",
      "200/200 [==============================] - 2s 8ms/step - loss: 0.0424 - val_loss: 0.1956\n"
     ]
    }
   ],
   "source": [
    "# train the model\n",
    "\n",
    "history = model.fit(train_data_single, epochs=10, steps_per_epoch=200, validation_data=val_data_single, validation_steps=50)"
   ]
  },
  {
   "cell_type": "code",
   "execution_count": 70,
   "metadata": {},
   "outputs": [],
   "source": [
    "def model_eval_metrics(y_true, y_pred, classification=\"TRUE\"):\n",
    "     if classification==\"TRUE\":\n",
    "        accuracy_eval = accuracy_score(y_true, y_pred)\n",
    "        f1_score_eval = f1_score(y_true, y_pred,average=\"macro\",zero_division=0)\n",
    "        precision_eval = precision_score(y_true, y_pred,average=\"macro\",zero_division=0)\n",
    "        recall_eval = recall_score(y_true, y_pred,average=\"macro\",zero_division=0)\n",
    "        mse_eval = 0\n",
    "        rmse_eval = 0\n",
    "        mae_eval = 0\n",
    "        r2_eval = 0\n",
    "        metricdata = {'accuracy': [accuracy_eval], 'f1_score': [f1_score_eval], \n",
    "                      'precision': [precision_eval], 'recall': [recall_eval], 'mse': [mse_eval], \n",
    "                      'rmse': [rmse_eval], 'mae': [mae_eval], 'r2': [r2_eval]}\n",
    "        finalmetricdata = pd.DataFrame.from_dict(metricdata)\n",
    "     else:\n",
    "        accuracy_eval = 0\n",
    "        f1_score_eval = 0\n",
    "        precision_eval = 0\n",
    "        recall_eval = 0\n",
    "        mse_eval = mean_squared_error(y_true, y_pred)\n",
    "        rmse_eval = sqrt(mean_squared_error(y_true, y_pred))\n",
    "        mae_eval = mean_absolute_error(y_true, y_pred)\n",
    "        r2_eval = r2_score(y_true, y_pred)\n",
    "        metricdata = {'accuracy': [accuracy_eval], 'f1_score': [f1_score_eval], \n",
    "                      'precision': [precision_eval], 'recall': [recall_eval], 'mse': [mse_eval], \n",
    "                      'rmse': [rmse_eval], 'mae': [mae_eval], 'r2': [r2_eval]}\n",
    "        finalmetricdata = pd.DataFrame.from_dict(metricdata)\n",
    "     return finalmetricdata"
   ]
  },
  {
   "cell_type": "code",
   "execution_count": 71,
   "metadata": {},
   "outputs": [
    {
     "data": {
      "text/html": [
       "<div>\n",
       "<style scoped>\n",
       "    .dataframe tbody tr th:only-of-type {\n",
       "        vertical-align: middle;\n",
       "    }\n",
       "\n",
       "    .dataframe tbody tr th {\n",
       "        vertical-align: top;\n",
       "    }\n",
       "\n",
       "    .dataframe thead th {\n",
       "        text-align: right;\n",
       "    }\n",
       "</style>\n",
       "<table border=\"1\" class=\"dataframe\">\n",
       "  <thead>\n",
       "    <tr style=\"text-align: right;\">\n",
       "      <th></th>\n",
       "      <th>accuracy</th>\n",
       "      <th>f1_score</th>\n",
       "      <th>precision</th>\n",
       "      <th>recall</th>\n",
       "      <th>mse</th>\n",
       "      <th>rmse</th>\n",
       "      <th>mae</th>\n",
       "      <th>r2</th>\n",
       "    </tr>\n",
       "  </thead>\n",
       "  <tbody>\n",
       "    <tr>\n",
       "      <td>0</td>\n",
       "      <td>0</td>\n",
       "      <td>0</td>\n",
       "      <td>0</td>\n",
       "      <td>0</td>\n",
       "      <td>0.051034</td>\n",
       "      <td>0.225906</td>\n",
       "      <td>0.195596</td>\n",
       "      <td>0.580932</td>\n",
       "    </tr>\n",
       "  </tbody>\n",
       "</table>\n",
       "</div>"
      ],
      "text/plain": [
       "   accuracy  f1_score  precision  recall       mse      rmse       mae  \\\n",
       "0         0         0          0       0  0.051034  0.225906  0.195596   \n",
       "\n",
       "         r2  \n",
       "0  0.580932  "
      ]
     },
     "execution_count": 71,
     "metadata": {},
     "output_type": "execute_result"
    }
   ],
   "source": [
    "# evaluate the model\n",
    "\n",
    "model_eval_metrics(y_val_single, model.predict(x_val_single), classification=\"FALSE\")"
   ]
  },
  {
   "cell_type": "code",
   "execution_count": 72,
   "metadata": {},
   "outputs": [
    {
     "name": "stdout",
     "output_type": "stream",
     "text": [
      "Test set score: 0.58\n"
     ]
    },
    {
     "data": {
      "image/png": "[encoded data removed]",
      "text/plain": [
       "<Figure size 432x288 with 1 Axes>"
      ]
     },
     "metadata": {
      "needs_background": "light"
     },
     "output_type": "display_data"
    }
   ],
   "source": [
    "# visualize the result\n",
    "\n",
    "plt.plot(y_val_single, label=\"actual\")\n",
    "plt.plot(model.predict(x_val_single), \"r\", linestyle='--', label=\"predict\")\n",
    "plt.legend(loc='best')\n",
    "plt.title('Simple RNN')\n",
    "plt.savefig(\"images/text_rnn.png\")\n",
    "\n",
    "print(\"Test set score: {:.2f}\".format(r2_score(y_val_single, model.predict(x_val_single))))"
   ]
  },
  {
   "cell_type": "markdown",
   "metadata": {},
   "source": [
    "#### RNN-LSTM"
   ]
  },
  {
   "cell_type": "code",
   "execution_count": 77,
   "metadata": {},
   "outputs": [
    {
     "name": "stdout",
     "output_type": "stream",
     "text": [
      "Model: \"sequential_12\"\n",
      "_________________________________________________________________\n",
      "Layer (type)                 Output Shape              Param #   \n",
      "=================================================================\n",
      "lstm_19 (LSTM)               (None, 128)               70144     \n",
      "_________________________________________________________________\n",
      "dense_12 (Dense)             (None, 1)                 129       \n",
      "=================================================================\n",
      "Total params: 70,273\n",
      "Trainable params: 70,273\n",
      "Non-trainable params: 0\n",
      "_________________________________________________________________\n"
     ]
    }
   ],
   "source": [
    "# construct the model\n",
    "\n",
    "model = tf.keras.models.Sequential()\n",
    "model.add(tf.keras.layers.LSTM(128, input_shape=x_train_single.shape[-2:]))\n",
    "model.add(tf.keras.layers.Dense(1))\n",
    "\n",
    "model.compile(optimizer=tf.keras.optimizers.RMSprop(lr=0.0001), loss='mae') #RMSprop Adam SGD\n",
    "\n",
    "model.summary()"
   ]
  },
  {
   "cell_type": "code",
   "execution_count": 78,
   "metadata": {
    "scrolled": true
   },
   "outputs": [
    {
     "name": "stdout",
     "output_type": "stream",
     "text": [
      "Train for 200 steps, validate for 50 steps\n",
      "Epoch 1/10\n",
      "200/200 [==============================] - 6s 30ms/step - loss: 0.2611 - val_loss: 0.5542\n",
      "Epoch 2/10\n",
      "200/200 [==============================] - 3s 17ms/step - loss: 0.1195 - val_loss: 0.2372\n",
      "Epoch 3/10\n",
      "200/200 [==============================] - 4s 19ms/step - loss: 0.1037 - val_loss: 0.1529\n",
      "Epoch 4/10\n",
      "200/200 [==============================] - 4s 19ms/step - loss: 0.0906 - val_loss: 0.1294\n",
      "Epoch 5/10\n",
      "200/200 [==============================] - 3s 14ms/step - loss: 0.0785 - val_loss: 0.1331\n",
      "Epoch 6/10\n",
      "200/200 [==============================] - 2s 12ms/step - loss: 0.0770 - val_loss: 0.1387\n",
      "Epoch 7/10\n",
      "200/200 [==============================] - 2s 12ms/step - loss: 0.0725 - val_loss: 0.1377\n",
      "Epoch 8/10\n",
      "200/200 [==============================] - 2s 12ms/step - loss: 0.0679 - val_loss: 0.1411\n",
      "Epoch 9/10\n",
      "200/200 [==============================] - 2s 12ms/step - loss: 0.0669 - val_loss: 0.1360\n",
      "Epoch 10/10\n",
      "200/200 [==============================] - 3s 16ms/step - loss: 0.0659 - val_loss: 0.1364s\n"
     ]
    }
   ],
   "source": [
    "# train the model\n",
    "\n",
    "history = model.fit(train_data_single, epochs=10, steps_per_epoch=200, validation_data=val_data_single, validation_steps=50)"
   ]
  },
  {
   "cell_type": "code",
   "execution_count": 79,
   "metadata": {},
   "outputs": [
    {
     "data": {
      "text/html": [
       "<div>\n",
       "<style scoped>\n",
       "    .dataframe tbody tr th:only-of-type {\n",
       "        vertical-align: middle;\n",
       "    }\n",
       "\n",
       "    .dataframe tbody tr th {\n",
       "        vertical-align: top;\n",
       "    }\n",
       "\n",
       "    .dataframe thead th {\n",
       "        text-align: right;\n",
       "    }\n",
       "</style>\n",
       "<table border=\"1\" class=\"dataframe\">\n",
       "  <thead>\n",
       "    <tr style=\"text-align: right;\">\n",
       "      <th></th>\n",
       "      <th>accuracy</th>\n",
       "      <th>f1_score</th>\n",
       "      <th>precision</th>\n",
       "      <th>recall</th>\n",
       "      <th>mse</th>\n",
       "      <th>rmse</th>\n",
       "      <th>mae</th>\n",
       "      <th>r2</th>\n",
       "    </tr>\n",
       "  </thead>\n",
       "  <tbody>\n",
       "    <tr>\n",
       "      <td>0</td>\n",
       "      <td>0</td>\n",
       "      <td>0</td>\n",
       "      <td>0</td>\n",
       "      <td>0</td>\n",
       "      <td>0.032838</td>\n",
       "      <td>0.181212</td>\n",
       "      <td>0.136444</td>\n",
       "      <td>0.730349</td>\n",
       "    </tr>\n",
       "  </tbody>\n",
       "</table>\n",
       "</div>"
      ],
      "text/plain": [
       "   accuracy  f1_score  precision  recall       mse      rmse       mae  \\\n",
       "0         0         0          0       0  0.032838  0.181212  0.136444   \n",
       "\n",
       "         r2  \n",
       "0  0.730349  "
      ]
     },
     "execution_count": 79,
     "metadata": {},
     "output_type": "execute_result"
    }
   ],
   "source": [
    "# evaluate the model\n",
    "\n",
    "model_eval_metrics(y_val_single, model.predict(x_val_single), classification=\"FALSE\")"
   ]
  },
  {
   "cell_type": "code",
   "execution_count": 80,
   "metadata": {
    "scrolled": true
   },
   "outputs": [
    {
     "name": "stdout",
     "output_type": "stream",
     "text": [
      "Test set score: 0.73\n"
     ]
    },
    {
     "data": {
      "image/png": "[encoded data removed]",
      "text/plain": [
       "<Figure size 432x288 with 1 Axes>"
      ]
     },
     "metadata": {
      "needs_background": "light"
     },
     "output_type": "display_data"
    }
   ],
   "source": [
    "# visualize the result\n",
    "\n",
    "plt.plot(y_val_single, label=\"actual\")\n",
    "plt.plot(model.predict(x_val_single), \"r\", linestyle='--', label=\"predict\")\n",
    "plt.legend(loc='best')\n",
    "plt.title('RNN-LSTM')\n",
    "plt.savefig(\"images/text_lstm.png\")\n",
    "\n",
    "print(\"Test set score: {:.2f}\".format(r2_score(y_val_single, model.predict(x_val_single))))"
   ]
  },
  {
   "cell_type": "markdown",
   "metadata": {},
   "source": [
    "#### RNN-LSTM with stacked dropout layers"
   ]
  },
  {
   "cell_type": "code",
   "execution_count": 88,
   "metadata": {},
   "outputs": [
    {
     "name": "stdout",
     "output_type": "stream",
     "text": [
      "Model: \"sequential_15\"\n",
      "_________________________________________________________________\n",
      "Layer (type)                 Output Shape              Param #   \n",
      "=================================================================\n",
      "lstm_30 (LSTM)               (None, 7, 128)            70144     \n",
      "_________________________________________________________________\n",
      "lstm_31 (LSTM)               (None, 7, 64)             49408     \n",
      "_________________________________________________________________\n",
      "lstm_32 (LSTM)               (None, 7, 32)             12416     \n",
      "_________________________________________________________________\n",
      "lstm_33 (LSTM)               (None, 7, 16)             3136      \n",
      "_________________________________________________________________\n",
      "lstm_34 (LSTM)               (None, 8)                 800       \n",
      "_________________________________________________________________\n",
      "dense_15 (Dense)             (None, 1)                 9         \n",
      "=================================================================\n",
      "Total params: 135,913\n",
      "Trainable params: 135,913\n",
      "Non-trainable params: 0\n",
      "_________________________________________________________________\n"
     ]
    }
   ],
   "source": [
    "# construct the model\n",
    "\n",
    "model = tf.keras.models.Sequential()\n",
    "model.add(tf.keras.layers.LSTM(128, input_shape=x_train_single.shape[-2:], return_sequences=True))\n",
    "model.add(tf.keras.layers.LSTM(64, dropout=0.2, recurrent_dropout=0.2, return_sequences=True))\n",
    "model.add(tf.keras.layers.LSTM(32, dropout=0.2, recurrent_dropout=0.2, return_sequences=True))\n",
    "model.add(tf.keras.layers.LSTM(16, dropout=0.2, recurrent_dropout=0.2, return_sequences=True))\n",
    "model.add(tf.keras.layers.LSTM(8, dropout=0.2, recurrent_dropout=0.2))\n",
    "#model.add(tf.keras.layers.LSTM(8, kernel_regularizer=l2(0.01), bias_regularizer=l2(0.01)))\n",
    "#model.add(tf.keras.layers.Bidirectional(tf.keras.layers.LSTM(8)))\n",
    "#model.add(tf.keras.layers.Flatten())\n",
    "model.add(tf.keras.layers.Dense(1))\n",
    "\n",
    "model.compile(optimizer=tf.keras.optimizers.RMSprop(lr=0.0001), loss='mae') #RMSprop Adam SGD\n",
    "\n",
    "model.summary()"
   ]
  },
  {
   "cell_type": "code",
   "execution_count": 89,
   "metadata": {
    "scrolled": true
   },
   "outputs": [
    {
     "name": "stdout",
     "output_type": "stream",
     "text": [
      "Train for 200 steps, validate for 50 steps\n",
      "Epoch 1/10\n",
      "200/200 [==============================] - 37s 187ms/step - loss: 0.4664 - val_loss: 0.3841\n",
      "Epoch 2/10\n",
      "200/200 [==============================] - 10s 49ms/step - loss: 0.2346 - val_loss: 0.1453\n",
      "Epoch 3/10\n",
      "200/200 [==============================] - 10s 48ms/step - loss: 0.2148 - val_loss: 0.1132\n",
      "Epoch 4/10\n",
      "200/200 [==============================] - 10s 49ms/step - loss: 0.1949 - val_loss: 0.0970\n",
      "Epoch 5/10\n",
      "200/200 [==============================] - 10s 48ms/step - loss: 0.1862 - val_loss: 0.0953\n",
      "Epoch 6/10\n",
      "200/200 [==============================] - 10s 50ms/step - loss: 0.1774 - val_loss: 0.0960\n",
      "Epoch 7/10\n",
      "200/200 [==============================] - 10s 50ms/step - loss: 0.1691 - val_loss: 0.0963\n",
      "Epoch 8/10\n",
      "200/200 [==============================] - 11s 53ms/step - loss: 0.1626 - val_loss: 0.0953\n",
      "Epoch 9/10\n",
      "200/200 [==============================] - 11s 55ms/step - loss: 0.1542 - val_loss: 0.0973\n",
      "Epoch 10/10\n",
      "200/200 [==============================] - 12s 60ms/step - loss: 0.1493 - val_loss: 0.0948\n"
     ]
    }
   ],
   "source": [
    "# train the model\n",
    "\n",
    "history = model.fit(train_data_single, epochs=10, steps_per_epoch=200, validation_data=val_data_single, validation_steps=50)"
   ]
  },
  {
   "cell_type": "code",
   "execution_count": 90,
   "metadata": {},
   "outputs": [
    {
     "data": {
      "text/html": [
       "<div>\n",
       "<style scoped>\n",
       "    .dataframe tbody tr th:only-of-type {\n",
       "        vertical-align: middle;\n",
       "    }\n",
       "\n",
       "    .dataframe tbody tr th {\n",
       "        vertical-align: top;\n",
       "    }\n",
       "\n",
       "    .dataframe thead th {\n",
       "        text-align: right;\n",
       "    }\n",
       "</style>\n",
       "<table border=\"1\" class=\"dataframe\">\n",
       "  <thead>\n",
       "    <tr style=\"text-align: right;\">\n",
       "      <th></th>\n",
       "      <th>accuracy</th>\n",
       "      <th>f1_score</th>\n",
       "      <th>precision</th>\n",
       "      <th>recall</th>\n",
       "      <th>mse</th>\n",
       "      <th>rmse</th>\n",
       "      <th>mae</th>\n",
       "      <th>r2</th>\n",
       "    </tr>\n",
       "  </thead>\n",
       "  <tbody>\n",
       "    <tr>\n",
       "      <td>0</td>\n",
       "      <td>0</td>\n",
       "      <td>0</td>\n",
       "      <td>0</td>\n",
       "      <td>0</td>\n",
       "      <td>0.014221</td>\n",
       "      <td>0.119254</td>\n",
       "      <td>0.094773</td>\n",
       "      <td>0.883219</td>\n",
       "    </tr>\n",
       "  </tbody>\n",
       "</table>\n",
       "</div>"
      ],
      "text/plain": [
       "   accuracy  f1_score  precision  recall       mse      rmse       mae  \\\n",
       "0         0         0          0       0  0.014221  0.119254  0.094773   \n",
       "\n",
       "         r2  \n",
       "0  0.883219  "
      ]
     },
     "execution_count": 90,
     "metadata": {},
     "output_type": "execute_result"
    }
   ],
   "source": [
    "# evaluate the model\n",
    "\n",
    "model_eval_metrics(y_val_single, model.predict(x_val_single), classification=\"FALSE\")"
   ]
  },
  {
   "cell_type": "code",
   "execution_count": 91,
   "metadata": {
    "scrolled": true
   },
   "outputs": [
    {
     "name": "stdout",
     "output_type": "stream",
     "text": [
      "Test set score: 0.88\n"
     ]
    },
    {
     "data": {
      "image/png": "[encoded data removed]",
      "text/plain": [
       "<Figure size 432x288 with 1 Axes>"
      ]
     },
     "metadata": {
      "needs_background": "light"
     },
     "output_type": "display_data"
    }
   ],
   "source": [
    "# visualize the result\n",
    "\n",
    "plt.plot(y_val_single, label=\"actual\")\n",
    "plt.plot(model.predict(x_val_single), \"r\", linestyle='--', label=\"predict\")\n",
    "plt.legend(loc='best')\n",
    "plt.title('RNN-LSTM with stacked dropout layers')\n",
    "plt.savefig(\"images/text_lstm_s.png\")\n",
    "\n",
    "print(\"Test set score: {:.2f}\".format(r2_score(y_val_single, model.predict(x_val_single))))"
   ]
  },
  {
   "cell_type": "markdown",
   "metadata": {},
   "source": [
    "**Discussion:** Compared to the simple RNN, the RNN-LSTM nowcasts the IBC with a higher test score. This is because the RNN-LSTM can judge how long each information should be kept, and then preserve or forget the memory through the training. Moreover, by adding stacked layers with dropouts, the performance of the RNN-LSTM improves in terms of test scores. This is because the dropout would prevent the overfitting in the training process."
   ]
  },
  {
   "cell_type": "markdown",
   "metadata": {},
   "source": [
    "## Method 2: Word Embedding"
   ]
  },
  {
   "cell_type": "markdown",
   "metadata": {},
   "source": [
    "Using the word embodding instead of Tf-idf vectorizer, this report tries to nowcast whether the IBC increases or decreases from the previous year"
   ]
  },
  {
   "cell_type": "code",
   "execution_count": 92,
   "metadata": {},
   "outputs": [
    {
     "name": "stderr",
     "output_type": "stream",
     "text": [
      "C:\\Users\\roomr\\Anaconda3\\lib\\site-packages\\ipykernel_launcher.py:14: SettingWithCopyWarning: \n",
      "A value is trying to be set on a copy of a slice from a DataFrame\n",
      "\n",
      "See the caveats in the documentation: http://pandas.pydata.org/pandas-docs/stable/user_guide/indexing.html#returning-a-view-versus-a-copy\n",
      "  \n",
      "C:\\Users\\roomr\\Anaconda3\\lib\\site-packages\\ipykernel_launcher.py:12: SettingWithCopyWarning: \n",
      "A value is trying to be set on a copy of a slice from a DataFrame\n",
      "\n",
      "See the caveats in the documentation: http://pandas.pydata.org/pandas-docs/stable/user_guide/indexing.html#returning-a-view-versus-a-copy\n",
      "  if sys.path[0] == '':\n"
     ]
    },
    {
     "data": {
      "text/html": [
       "<div>\n",
       "<style scoped>\n",
       "    .dataframe tbody tr th:only-of-type {\n",
       "        vertical-align: middle;\n",
       "    }\n",
       "\n",
       "    .dataframe tbody tr th {\n",
       "        vertical-align: top;\n",
       "    }\n",
       "\n",
       "    .dataframe thead th {\n",
       "        text-align: right;\n",
       "    }\n",
       "</style>\n",
       "<table border=\"1\" class=\"dataframe\">\n",
       "  <thead>\n",
       "    <tr style=\"text-align: right;\">\n",
       "      <th></th>\n",
       "      <th>Coincident Index</th>\n",
       "      <th>YoY rate</th>\n",
       "      <th>YoY dummy</th>\n",
       "    </tr>\n",
       "    <tr>\n",
       "      <th>time</th>\n",
       "      <th></th>\n",
       "      <th></th>\n",
       "      <th></th>\n",
       "    </tr>\n",
       "  </thead>\n",
       "  <tbody>\n",
       "    <tr>\n",
       "      <td>Jan-09</td>\n",
       "      <td>75.3</td>\n",
       "      <td>-27.873563</td>\n",
       "      <td>0</td>\n",
       "    </tr>\n",
       "    <tr>\n",
       "      <td>Feb-09</td>\n",
       "      <td>69.9</td>\n",
       "      <td>-33.301527</td>\n",
       "      <td>0</td>\n",
       "    </tr>\n",
       "    <tr>\n",
       "      <td>Mar-09</td>\n",
       "      <td>69.2</td>\n",
       "      <td>-33.333333</td>\n",
       "      <td>0</td>\n",
       "    </tr>\n",
       "    <tr>\n",
       "      <td>Apr-09</td>\n",
       "      <td>70.3</td>\n",
       "      <td>-31.681244</td>\n",
       "      <td>0</td>\n",
       "    </tr>\n",
       "    <tr>\n",
       "      <td>May-09</td>\n",
       "      <td>72.2</td>\n",
       "      <td>-29.834791</td>\n",
       "      <td>0</td>\n",
       "    </tr>\n",
       "    <tr>\n",
       "      <td>Jun-09</td>\n",
       "      <td>73.3</td>\n",
       "      <td>-26.992032</td>\n",
       "      <td>0</td>\n",
       "    </tr>\n",
       "    <tr>\n",
       "      <td>Jul-09</td>\n",
       "      <td>74.0</td>\n",
       "      <td>-25.777332</td>\n",
       "      <td>0</td>\n",
       "    </tr>\n",
       "    <tr>\n",
       "      <td>Aug-09</td>\n",
       "      <td>75.7</td>\n",
       "      <td>-21.391485</td>\n",
       "      <td>0</td>\n",
       "    </tr>\n",
       "    <tr>\n",
       "      <td>Sep-09</td>\n",
       "      <td>77.9</td>\n",
       "      <td>-18.429319</td>\n",
       "      <td>0</td>\n",
       "    </tr>\n",
       "    <tr>\n",
       "      <td>Oct-09</td>\n",
       "      <td>79.9</td>\n",
       "      <td>-13.528139</td>\n",
       "      <td>0</td>\n",
       "    </tr>\n",
       "    <tr>\n",
       "      <td>Nov-09</td>\n",
       "      <td>81.5</td>\n",
       "      <td>-6.321839</td>\n",
       "      <td>0</td>\n",
       "    </tr>\n",
       "    <tr>\n",
       "      <td>Dec-09</td>\n",
       "      <td>83.1</td>\n",
       "      <td>1.713586</td>\n",
       "      <td>1</td>\n",
       "    </tr>\n",
       "    <tr>\n",
       "      <td>Jan-10</td>\n",
       "      <td>85.6</td>\n",
       "      <td>13.678619</td>\n",
       "      <td>1</td>\n",
       "    </tr>\n",
       "    <tr>\n",
       "      <td>Feb-10</td>\n",
       "      <td>86.7</td>\n",
       "      <td>24.034335</td>\n",
       "      <td>1</td>\n",
       "    </tr>\n",
       "    <tr>\n",
       "      <td>Mar-10</td>\n",
       "      <td>87.6</td>\n",
       "      <td>26.589595</td>\n",
       "      <td>1</td>\n",
       "    </tr>\n",
       "    <tr>\n",
       "      <td>Apr-10</td>\n",
       "      <td>88.8</td>\n",
       "      <td>26.315789</td>\n",
       "      <td>1</td>\n",
       "    </tr>\n",
       "    <tr>\n",
       "      <td>May-10</td>\n",
       "      <td>88.2</td>\n",
       "      <td>22.160665</td>\n",
       "      <td>1</td>\n",
       "    </tr>\n",
       "    <tr>\n",
       "      <td>Jun-10</td>\n",
       "      <td>88.6</td>\n",
       "      <td>20.873124</td>\n",
       "      <td>1</td>\n",
       "    </tr>\n",
       "    <tr>\n",
       "      <td>Jul-10</td>\n",
       "      <td>89.2</td>\n",
       "      <td>20.540541</td>\n",
       "      <td>1</td>\n",
       "    </tr>\n",
       "    <tr>\n",
       "      <td>Aug-10</td>\n",
       "      <td>89.9</td>\n",
       "      <td>18.758256</td>\n",
       "      <td>1</td>\n",
       "    </tr>\n",
       "  </tbody>\n",
       "</table>\n",
       "</div>"
      ],
      "text/plain": [
       "        Coincident Index   YoY rate  YoY dummy\n",
       "time                                          \n",
       "Jan-09              75.3 -27.873563          0\n",
       "Feb-09              69.9 -33.301527          0\n",
       "Mar-09              69.2 -33.333333          0\n",
       "Apr-09              70.3 -31.681244          0\n",
       "May-09              72.2 -29.834791          0\n",
       "Jun-09              73.3 -26.992032          0\n",
       "Jul-09              74.0 -25.777332          0\n",
       "Aug-09              75.7 -21.391485          0\n",
       "Sep-09              77.9 -18.429319          0\n",
       "Oct-09              79.9 -13.528139          0\n",
       "Nov-09              81.5  -6.321839          0\n",
       "Dec-09              83.1   1.713586          1\n",
       "Jan-10              85.6  13.678619          1\n",
       "Feb-10              86.7  24.034335          1\n",
       "Mar-10              87.6  26.589595          1\n",
       "Apr-10              88.8  26.315789          1\n",
       "May-10              88.2  22.160665          1\n",
       "Jun-10              88.6  20.873124          1\n",
       "Jul-10              89.2  20.540541          1\n",
       "Aug-10              89.9  18.758256          1"
      ]
     },
     "execution_count": 92,
     "metadata": {},
     "output_type": "execute_result"
    }
   ],
   "source": [
    "# load the IBC data\n",
    "ibc = pd.read_csv('data/Indexes of Business Conditions.csv', index_col=0)\n",
    "\n",
    "# create the change rate from the previouse year (Year-over-Year)\n",
    "ibc['YoY rate'] = 100*ibc['Coincident Index'].pct_change(12)\n",
    "ibc = ibc.iloc[288:]\n",
    "\n",
    "# create a dummy variable of YoY (increase = 1, decrease or same = 0)\n",
    "ibc['YoY dummy'] = 0\n",
    "for i in range(0,134):\n",
    "    if ibc['YoY rate'][i] > 0:\n",
    "        ibc['YoY dummy'][i] = 1\n",
    "    else:\n",
    "        ibc['YoY dummy'][i] = 0\n",
    "        \n",
    "ibc.head(20)"
   ]
  },
  {
   "cell_type": "code",
   "execution_count": 93,
   "metadata": {},
   "outputs": [
    {
     "data": {
      "image/png": "[encoded data removed]",
      "text/plain": [
       "<Figure size 432x288 with 1 Axes>"
      ]
     },
     "metadata": {
      "needs_background": "light"
     },
     "output_type": "display_data"
    }
   ],
   "source": [
    "# visualize the YoY dummy variables\n",
    "ax = sns.countplot(x='YoY dummy', data=ibc)"
   ]
  },
  {
   "cell_type": "markdown",
   "metadata": {},
   "source": [
    "The binary category is roughly balanced in this data. Thus, the accuracy score would be appricable as metrics"
   ]
  },
  {
   "cell_type": "code",
   "execution_count": 94,
   "metadata": {},
   "outputs": [
    {
     "name": "stdout",
     "output_type": "stream",
     "text": [
      "Found 14236 unique tokens.\n",
      "Shape of data tensor: (134, 1000)\n",
      "Shape of label tensor: (134,)\n"
     ]
    }
   ],
   "source": [
    "# Tokenize the data into one hot vectors\n",
    "\n",
    "maxlen = 1000  # cut text after 1000 words\n",
    "max_words = 10000  # only consider top 10,000 words in the dataset\n",
    "\n",
    "tokenizer = Tokenizer(num_words=max_words)\n",
    "tokenizer.fit_on_texts(split.body)\n",
    "sequences = tokenizer.texts_to_sequences(split.body)\n",
    "word_index = tokenizer.word_index\n",
    "\n",
    "print('Found %s unique tokens.' % len(word_index))\n",
    "\n",
    "data = pad_sequences(sequences, maxlen=maxlen)\n",
    "labels = np.asarray(ibc[\"YoY dummy\"])\n",
    "\n",
    "print('Shape of data tensor:', data.shape)\n",
    "print('Shape of label tensor:', labels.shape)\n",
    "\n",
    "# Set up training and test data\n",
    "x_train, x_test, y_train, y_test = train_test_split(data, labels, random_state=42)"
   ]
  },
  {
   "cell_type": "markdown",
   "metadata": {},
   "source": [
    "### Nowcasting using RNN-LSTM"
   ]
  },
  {
   "cell_type": "code",
   "execution_count": 95,
   "metadata": {},
   "outputs": [
    {
     "name": "stdout",
     "output_type": "stream",
     "text": [
      "Model: \"sequential_16\"\n",
      "_________________________________________________________________\n",
      "Layer (type)                 Output Shape              Param #   \n",
      "=================================================================\n",
      "embedding (Embedding)        (None, 1000, 128)         1280000   \n",
      "_________________________________________________________________\n",
      "lstm_35 (LSTM)               (None, 1000, 128)         131584    \n",
      "_________________________________________________________________\n",
      "flatten (Flatten)            (None, 128000)            0         \n",
      "_________________________________________________________________\n",
      "dense_16 (Dense)             (None, 2)                 256002    \n",
      "=================================================================\n",
      "Total params: 1,667,586\n",
      "Trainable params: 1,667,586\n",
      "Non-trainable params: 0\n",
      "_________________________________________________________________\n"
     ]
    }
   ],
   "source": [
    "# construct the model\n",
    "\n",
    "model = tf.keras.models.Sequential()\n",
    "model.add(tf.keras.layers.Embedding(10000, 128, input_length=maxlen))\n",
    "model.add(tf.keras.layers.LSTM(128, return_sequences=True))\n",
    "#model.add(tf.keras.layers.LSTM(64, dropout=0.2, recurrent_dropout=0.2, return_sequences=True))\n",
    "#model.add(tf.keras.layers.LSTM(32, dropout=0.2, recurrent_dropout=0.2, return_sequences=True))\n",
    "#model.add(tf.keras.layers.LSTM(16, dropout=0.2, recurrent_dropout=0.2, return_sequences=True))\n",
    "#model.add(tf.keras.layers.LSTM(8, kernel_regularizer=l2(0.01), bias_regularizer=l2(0.01)))\n",
    "#model.add(tf.keras.layers.Bidirectional(tf.keras.layers.LSTM(128)))\n",
    "model.add(tf.keras.layers.Flatten())\n",
    "model.add(tf.keras.layers.Dense(2, activation='softmax'))\n",
    "\n",
    "model.compile(optimizer=tf.keras.optimizers.RMSprop(), loss='binary_crossentropy', metrics=['acc'])\n",
    "\n",
    "model.summary()"
   ]
  },
  {
   "cell_type": "code",
   "execution_count": 96,
   "metadata": {
    "scrolled": false
   },
   "outputs": [
    {
     "name": "stdout",
     "output_type": "stream",
     "text": [
      "Train on 80 samples, validate on 20 samples\n",
      "Epoch 1/10\n",
      "80/80 [==============================] - 11s 140ms/sample - loss: 0.6809 - acc: 0.5250 - val_loss: 0.8584 - val_acc: 0.6000\n",
      "Epoch 2/10\n",
      "80/80 [==============================] - 6s 76ms/sample - loss: 0.5486 - acc: 0.6625 - val_loss: 0.5151 - val_acc: 0.7500\n",
      "Epoch 3/10\n",
      "80/80 [==============================] - 7s 82ms/sample - loss: 0.1632 - acc: 0.9625 - val_loss: 0.4755 - val_acc: 0.8000\n",
      "Epoch 4/10\n",
      "80/80 [==============================] - 6s 78ms/sample - loss: 0.1049 - acc: 0.9625 - val_loss: 0.4865 - val_acc: 0.8000\n",
      "Epoch 5/10\n",
      "80/80 [==============================] - 5s 61ms/sample - loss: 0.0802 - acc: 0.9750 - val_loss: 0.5737 - val_acc: 0.7500\n",
      "Epoch 6/10\n",
      "80/80 [==============================] - 9s 112ms/sample - loss: 0.0399 - acc: 1.0000 - val_loss: 0.5183 - val_acc: 0.7500\n",
      "Epoch 7/10\n",
      "80/80 [==============================] - 7s 85ms/sample - loss: 0.0381 - acc: 0.9875 - val_loss: 0.5756 - val_acc: 0.8000\n",
      "Epoch 8/10\n",
      "80/80 [==============================] - 9s 116ms/sample - loss: 0.0137 - acc: 1.0000 - val_loss: 0.5864 - val_acc: 0.8000\n",
      "Epoch 9/10\n",
      "80/80 [==============================] - 7s 86ms/sample - loss: 0.0089 - acc: 1.0000 - val_loss: 0.6119 - val_acc: 0.7500\n",
      "Epoch 10/10\n",
      "80/80 [==============================] - 5s 66ms/sample - loss: 0.0061 - acc: 1.0000 - val_loss: 0.6449 - val_acc: 0.7500\n"
     ]
    }
   ],
   "source": [
    "# train the model\n",
    "\n",
    "history = model.fit(x_train, pd.get_dummies(y_train), epochs=10, batch_size=32, validation_split=0.2)"
   ]
  },
  {
   "cell_type": "code",
   "execution_count": 97,
   "metadata": {
    "scrolled": true
   },
   "outputs": [
    {
     "name": "stdout",
     "output_type": "stream",
     "text": [
      "34/34 [==============================] - 1s 17ms/sample - loss: 0.4838 - acc: 0.7353\n"
     ]
    },
    {
     "data": {
      "text/plain": [
       "[0.48375461031408873, 0.7352941]"
      ]
     },
     "execution_count": 97,
     "metadata": {},
     "output_type": "execute_result"
    }
   ],
   "source": [
    "# evaluate the result\n",
    "\n",
    "model.evaluate(x_test, pd.get_dummies(y_test))"
   ]
  },
  {
   "cell_type": "markdown",
   "metadata": {},
   "source": [
    "### Nowcasting using Conv1d layers"
   ]
  },
  {
   "cell_type": "code",
   "execution_count": 98,
   "metadata": {},
   "outputs": [
    {
     "name": "stdout",
     "output_type": "stream",
     "text": [
      "Model: \"sequential_17\"\n",
      "_________________________________________________________________\n",
      "Layer (type)                 Output Shape              Param #   \n",
      "=================================================================\n",
      "embedding_1 (Embedding)      (None, 1000, 128)         1280000   \n",
      "_________________________________________________________________\n",
      "conv1d (Conv1D)              (None, 994, 64)           57408     \n",
      "_________________________________________________________________\n",
      "max_pooling1d (MaxPooling1D) (None, 198, 64)           0         \n",
      "_________________________________________________________________\n",
      "conv1d_1 (Conv1D)            (None, 192, 32)           14368     \n",
      "_________________________________________________________________\n",
      "global_max_pooling1d (Global (None, 32)                0         \n",
      "_________________________________________________________________\n",
      "dense_17 (Dense)             (None, 2)                 66        \n",
      "=================================================================\n",
      "Total params: 1,351,842\n",
      "Trainable params: 1,351,842\n",
      "Non-trainable params: 0\n",
      "_________________________________________________________________\n"
     ]
    }
   ],
   "source": [
    "# construct the model\n",
    "\n",
    "model = tf.keras.models.Sequential()\n",
    "model.add(tf.keras.layers.Embedding(10000, 128, input_length=maxlen))\n",
    "model.add(tf.keras.layers.Conv1D(64, 7, activation='relu')) \n",
    "model.add(tf.keras.layers.MaxPooling1D(5))\n",
    "model.add(tf.keras.layers.Conv1D(32, 7, activation='relu'))\n",
    "model.add(tf.keras.layers.GlobalMaxPooling1D())\n",
    "model.add(tf.keras.layers.Dense(2, activation='softmax'))\n",
    "\n",
    "model.compile(optimizer=tf.keras.optimizers.RMSprop(), loss='binary_crossentropy', metrics=['acc'])\n",
    "\n",
    "model.summary()"
   ]
  },
  {
   "cell_type": "code",
   "execution_count": 99,
   "metadata": {
    "scrolled": true
   },
   "outputs": [
    {
     "name": "stdout",
     "output_type": "stream",
     "text": [
      "Train on 80 samples, validate on 20 samples\n",
      "Epoch 1/10\n",
      "80/80 [==============================] - 2s 24ms/sample - loss: 0.7036 - acc: 0.4625 - val_loss: 0.6859 - val_acc: 0.4500\n",
      "Epoch 2/10\n",
      "80/80 [==============================] - 1s 15ms/sample - loss: 0.5747 - acc: 0.7000 - val_loss: 0.5865 - val_acc: 0.9000\n",
      "Epoch 3/10\n",
      "80/80 [==============================] - 1s 12ms/sample - loss: 0.4805 - acc: 0.8875 - val_loss: 0.5280 - val_acc: 1.0000\n",
      "Epoch 4/10\n",
      "80/80 [==============================] - 1s 16ms/sample - loss: 0.4216 - acc: 0.9250 - val_loss: 0.4991 - val_acc: 0.9500\n",
      "Epoch 5/10\n",
      "80/80 [==============================] - 1s 10ms/sample - loss: 0.3725 - acc: 0.9500 - val_loss: 0.4882 - val_acc: 0.8500\n",
      "Epoch 6/10\n",
      "80/80 [==============================] - 1s 10ms/sample - loss: 0.3261 - acc: 0.9500 - val_loss: 0.4307 - val_acc: 1.0000\n",
      "Epoch 7/10\n",
      "80/80 [==============================] - 1s 11ms/sample - loss: 0.2821 - acc: 0.9750 - val_loss: 0.4537 - val_acc: 0.8500\n",
      "Epoch 8/10\n",
      "80/80 [==============================] - 1s 14ms/sample - loss: 0.2467 - acc: 1.0000 - val_loss: 0.4987 - val_acc: 0.7000\n",
      "Epoch 9/10\n",
      "80/80 [==============================] - 1s 17ms/sample - loss: 0.2267 - acc: 0.9625 - val_loss: 0.4248 - val_acc: 0.9000\n",
      "Epoch 10/10\n",
      "80/80 [==============================] - 1s 13ms/sample - loss: 0.1939 - acc: 0.9750 - val_loss: 0.3658 - val_acc: 0.9500\n"
     ]
    }
   ],
   "source": [
    "# train the model\n",
    "\n",
    "history = model.fit(x_train, pd.get_dummies(y_train), epochs=10, batch_size=32, validation_split=0.2)"
   ]
  },
  {
   "cell_type": "code",
   "execution_count": 100,
   "metadata": {
    "scrolled": true
   },
   "outputs": [
    {
     "name": "stdout",
     "output_type": "stream",
     "text": [
      "34/34 [==============================] - 0s 2ms/sample - loss: 0.5022 - acc: 0.7941\n"
     ]
    },
    {
     "data": {
      "text/plain": [
       "[0.5021577477455139, 0.7941176]"
      ]
     },
     "execution_count": 100,
     "metadata": {},
     "output_type": "execute_result"
    }
   ],
   "source": [
    "# evaluate the model\n",
    "\n",
    "model.evaluate(x_test, pd.get_dummies(y_test))"
   ]
  },
  {
   "cell_type": "markdown",
   "metadata": {},
   "source": [
    "**Discussion:** The word embedding with RNN-LSTM and Conv1d layers classifies the increases or decreases in the change rates of IBC to some extent, although the test accuracies are not so high. In this dataset, the Conv1d layers work better than the RNN-LSTM in terms of accuracy (0.79 vs. 0.74)."
   ]
  }
 ],
 "metadata": {
  "kernelspec": {
   "display_name": "Python 3",
   "language": "python",
   "name": "python3"
  },
  "language_info": {
   "codemirror_mode": {
    "name": "ipython",
    "version": 3
   },
   "file_extension": ".py",
   "mimetype": "text/x-python",
   "name": "python",
   "nbconvert_exporter": "python",
   "pygments_lexer": "ipython3",
   "version": "3.7.4"
  }
 },
 "nbformat": 4,
 "nbformat_minor": 2
}
